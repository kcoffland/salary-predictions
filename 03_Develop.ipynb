{
 "cells": [
  {
   "cell_type": "markdown",
   "metadata": {},
   "source": [
    "# Salary Predictions Based on Job Descriptions"
   ]
  },
  {
   "cell_type": "markdown",
   "metadata": {},
   "source": [
    "# Step 3: Develop"
   ]
  },
  {
   "cell_type": "code",
   "execution_count": 2,
   "metadata": {},
   "outputs": [],
   "source": [
    "import pandas as pd\n",
    "import matplotlib.pyplot as plt\n",
    "import numpy as np\n",
    "\n",
    "%matplotlib inline"
   ]
  },
  {
   "cell_type": "code",
   "execution_count": 3,
   "metadata": {},
   "outputs": [],
   "source": [
    "import sys\n",
    "sys.path.insert(0, './scripts')\n",
    "\n",
    "from helpers import load_data, mean_squared_error\n",
    "from Preprocessing import Preprocessing"
   ]
  },
  {
   "cell_type": "markdown",
   "metadata": {},
   "source": [
    "## Engineering features\n",
    "* Ensure data is ready for modeling (make Preprocessing.py)\n",
    "* Create any new features to enhance the model"
   ]
  },
  {
   "cell_type": "markdown",
   "metadata": {},
   "source": [
    "I wrote Preprocessing.py to do any transformations on the data to get it ready for the models."
   ]
  },
  {
   "cell_type": "code",
   "execution_count": 4,
   "metadata": {},
   "outputs": [
    {
     "name": "stdout",
     "output_type": "stream",
     "text": [
      "----------------------------------train shape-----------------------------------\n",
      "                                  (694059, 7)                                   \n",
      "------------------------------train's column types------------------------------\n",
      "salary                  int64\n",
      "jobType                object\n",
      "degree                 object\n",
      "major                  object\n",
      "industry               object\n",
      "yearsExperience         int64\n",
      "milesFromMetropolis     int64\n",
      "dtype: object\n",
      "-----------------------------train first five rows------------------------------\n",
      "                  salary         jobType       degree      major industry  \\\n",
      "jobId                                                                       \n",
      "JOB1362685151623     121  VICE_PRESIDENT    BACHELORS    BIOLOGY      OIL   \n",
      "JOB1362684547558      99             CTO  HIGH_SCHOOL       NONE   HEALTH   \n",
      "JOB1362684683175     110         MANAGER  HIGH_SCHOOL       NONE     AUTO   \n",
      "JOB1362684716169     141          JUNIOR     DOCTORAL       NONE      OIL   \n",
      "JOB1362685170911      77         MANAGER    BACHELORS  CHEMISTRY  SERVICE   \n",
      "\n",
      "                  yearsExperience  milesFromMetropolis  \n",
      "jobId                                                   \n",
      "JOB1362685151623               14                   88  \n",
      "JOB1362684547558                6                   79  \n",
      "JOB1362684683175                6                   12  \n",
      "JOB1362684716169               20                   49  \n",
      "JOB1362685170911               17                   76  \n"
     ]
    }
   ],
   "source": [
    "path = './model_validation_data/'\n",
    "files = ['train.csv', 'test.csv']\n",
    "\n",
    "train_data = load_data(path, files[0], verbose=True)"
   ]
  },
  {
   "cell_type": "code",
   "execution_count": 5,
   "metadata": {},
   "outputs": [],
   "source": [
    "target = 'salary'\n",
    "features = [x for x in train_data.columns if x != target]\n",
    "\n",
    "train_features = train_data[features].copy()\n",
    "train_salary = train_data[target].copy()\n",
    "del train_data"
   ]
  },
  {
   "cell_type": "markdown",
   "metadata": {},
   "source": [
    "I need to separate out the training and tuning data before any preprocessing occurs so I ensure the models are only learning from the training data."
   ]
  },
  {
   "cell_type": "code",
   "execution_count": 6,
   "metadata": {},
   "outputs": [],
   "source": [
    "from sklearn.model_selection import train_test_split\n",
    "features_train, features_tune, salary_train, salary_tune = train_test_split(train_features, train_salary, random_state=44)"
   ]
  },
  {
   "cell_type": "markdown",
   "metadata": {},
   "source": [
    "## Creating Models\n",
    "* Creating and tuning models ([Linear Regression](#Creating-Models:-Linear-Regression), \n",
    "[K-Nearest Neighbors](#Creating-Models:-K-Nearest-Neighbors),\n",
    "[Random Forest Regressor](#Creating-Models:-Random-Forest))"
   ]
  },
  {
   "cell_type": "markdown",
   "metadata": {},
   "source": [
    "### Creating Models: Linear Regression"
   ]
  },
  {
   "cell_type": "markdown",
   "metadata": {},
   "source": [
    "I'm going to start assessing my models with a simple __Linear Regression__ model. This is the basic regression model used by many companies through Excel. There are more complex models utilizing both Linear Regression and penalties, and I will be looking at those after I've tested the Linear Regression model with and without feature engineering."
   ]
  },
  {
   "cell_type": "code",
   "execution_count": 45,
   "metadata": {},
   "outputs": [
    {
     "data": {
      "text/html": [
       "<div>\n",
       "<style scoped>\n",
       "    .dataframe tbody tr th:only-of-type {\n",
       "        vertical-align: middle;\n",
       "    }\n",
       "\n",
       "    .dataframe tbody tr th {\n",
       "        vertical-align: top;\n",
       "    }\n",
       "\n",
       "    .dataframe thead th {\n",
       "        text-align: right;\n",
       "    }\n",
       "</style>\n",
       "<table border=\"1\" class=\"dataframe\">\n",
       "  <thead>\n",
       "    <tr style=\"text-align: right;\">\n",
       "      <th></th>\n",
       "      <th>jobType</th>\n",
       "      <th>degree</th>\n",
       "      <th>yearsExperience</th>\n",
       "      <th>milesFromMetropolis</th>\n",
       "      <th>major_BIOLOGY</th>\n",
       "      <th>major_BUSINESS</th>\n",
       "      <th>major_CHEMISTRY</th>\n",
       "      <th>major_COMPSCI</th>\n",
       "      <th>major_ENGINEERING</th>\n",
       "      <th>major_LITERATURE</th>\n",
       "      <th>major_MATH</th>\n",
       "      <th>major_NONE</th>\n",
       "      <th>major_PHYSICS</th>\n",
       "      <th>industry_AUTO</th>\n",
       "      <th>industry_EDUCATION</th>\n",
       "      <th>industry_FINANCE</th>\n",
       "      <th>industry_HEALTH</th>\n",
       "      <th>industry_OIL</th>\n",
       "      <th>industry_SERVICE</th>\n",
       "      <th>industry_WEB</th>\n",
       "    </tr>\n",
       "    <tr>\n",
       "      <th>jobId</th>\n",
       "      <th></th>\n",
       "      <th></th>\n",
       "      <th></th>\n",
       "      <th></th>\n",
       "      <th></th>\n",
       "      <th></th>\n",
       "      <th></th>\n",
       "      <th></th>\n",
       "      <th></th>\n",
       "      <th></th>\n",
       "      <th></th>\n",
       "      <th></th>\n",
       "      <th></th>\n",
       "      <th></th>\n",
       "      <th></th>\n",
       "      <th></th>\n",
       "      <th></th>\n",
       "      <th></th>\n",
       "      <th></th>\n",
       "      <th></th>\n",
       "    </tr>\n",
       "  </thead>\n",
       "  <tbody>\n",
       "    <tr>\n",
       "      <th>JOB1362684436101</th>\n",
       "      <td>1.000000</td>\n",
       "      <td>0.5</td>\n",
       "      <td>0.500000</td>\n",
       "      <td>0.676768</td>\n",
       "      <td>0</td>\n",
       "      <td>0</td>\n",
       "      <td>0</td>\n",
       "      <td>0</td>\n",
       "      <td>1</td>\n",
       "      <td>0</td>\n",
       "      <td>0</td>\n",
       "      <td>0</td>\n",
       "      <td>0</td>\n",
       "      <td>0</td>\n",
       "      <td>0</td>\n",
       "      <td>0</td>\n",
       "      <td>0</td>\n",
       "      <td>0</td>\n",
       "      <td>0</td>\n",
       "      <td>1</td>\n",
       "    </tr>\n",
       "    <tr>\n",
       "      <th>JOB1362685235155</th>\n",
       "      <td>0.857143</td>\n",
       "      <td>0.0</td>\n",
       "      <td>0.041667</td>\n",
       "      <td>0.606061</td>\n",
       "      <td>0</td>\n",
       "      <td>0</td>\n",
       "      <td>0</td>\n",
       "      <td>0</td>\n",
       "      <td>0</td>\n",
       "      <td>0</td>\n",
       "      <td>0</td>\n",
       "      <td>1</td>\n",
       "      <td>0</td>\n",
       "      <td>0</td>\n",
       "      <td>0</td>\n",
       "      <td>0</td>\n",
       "      <td>1</td>\n",
       "      <td>0</td>\n",
       "      <td>0</td>\n",
       "      <td>0</td>\n",
       "    </tr>\n",
       "    <tr>\n",
       "      <th>JOB1362684848538</th>\n",
       "      <td>0.000000</td>\n",
       "      <td>0.0</td>\n",
       "      <td>0.791667</td>\n",
       "      <td>0.787879</td>\n",
       "      <td>0</td>\n",
       "      <td>0</td>\n",
       "      <td>0</td>\n",
       "      <td>0</td>\n",
       "      <td>0</td>\n",
       "      <td>0</td>\n",
       "      <td>0</td>\n",
       "      <td>1</td>\n",
       "      <td>0</td>\n",
       "      <td>0</td>\n",
       "      <td>0</td>\n",
       "      <td>1</td>\n",
       "      <td>0</td>\n",
       "      <td>0</td>\n",
       "      <td>0</td>\n",
       "      <td>0</td>\n",
       "    </tr>\n",
       "    <tr>\n",
       "      <th>JOB1362685076073</th>\n",
       "      <td>0.000000</td>\n",
       "      <td>0.0</td>\n",
       "      <td>0.333333</td>\n",
       "      <td>0.949495</td>\n",
       "      <td>0</td>\n",
       "      <td>0</td>\n",
       "      <td>0</td>\n",
       "      <td>0</td>\n",
       "      <td>0</td>\n",
       "      <td>0</td>\n",
       "      <td>0</td>\n",
       "      <td>1</td>\n",
       "      <td>0</td>\n",
       "      <td>0</td>\n",
       "      <td>0</td>\n",
       "      <td>1</td>\n",
       "      <td>0</td>\n",
       "      <td>0</td>\n",
       "      <td>0</td>\n",
       "      <td>0</td>\n",
       "    </tr>\n",
       "    <tr>\n",
       "      <th>JOB1362685152718</th>\n",
       "      <td>0.428571</td>\n",
       "      <td>1.0</td>\n",
       "      <td>0.041667</td>\n",
       "      <td>0.101010</td>\n",
       "      <td>0</td>\n",
       "      <td>0</td>\n",
       "      <td>0</td>\n",
       "      <td>0</td>\n",
       "      <td>1</td>\n",
       "      <td>0</td>\n",
       "      <td>0</td>\n",
       "      <td>0</td>\n",
       "      <td>0</td>\n",
       "      <td>0</td>\n",
       "      <td>0</td>\n",
       "      <td>0</td>\n",
       "      <td>0</td>\n",
       "      <td>0</td>\n",
       "      <td>1</td>\n",
       "      <td>0</td>\n",
       "    </tr>\n",
       "  </tbody>\n",
       "</table>\n",
       "</div>"
      ],
      "text/plain": [
       "                   jobType  degree  yearsExperience  milesFromMetropolis  \\\n",
       "jobId                                                                      \n",
       "JOB1362684436101  1.000000     0.5         0.500000             0.676768   \n",
       "JOB1362685235155  0.857143     0.0         0.041667             0.606061   \n",
       "JOB1362684848538  0.000000     0.0         0.791667             0.787879   \n",
       "JOB1362685076073  0.000000     0.0         0.333333             0.949495   \n",
       "JOB1362685152718  0.428571     1.0         0.041667             0.101010   \n",
       "\n",
       "                  major_BIOLOGY  major_BUSINESS  major_CHEMISTRY  \\\n",
       "jobId                                                              \n",
       "JOB1362684436101              0               0                0   \n",
       "JOB1362685235155              0               0                0   \n",
       "JOB1362684848538              0               0                0   \n",
       "JOB1362685076073              0               0                0   \n",
       "JOB1362685152718              0               0                0   \n",
       "\n",
       "                  major_COMPSCI  major_ENGINEERING  major_LITERATURE  \\\n",
       "jobId                                                                  \n",
       "JOB1362684436101              0                  1                 0   \n",
       "JOB1362685235155              0                  0                 0   \n",
       "JOB1362684848538              0                  0                 0   \n",
       "JOB1362685076073              0                  0                 0   \n",
       "JOB1362685152718              0                  1                 0   \n",
       "\n",
       "                  major_MATH  major_NONE  major_PHYSICS  industry_AUTO  \\\n",
       "jobId                                                                    \n",
       "JOB1362684436101           0           0              0              0   \n",
       "JOB1362685235155           0           1              0              0   \n",
       "JOB1362684848538           0           1              0              0   \n",
       "JOB1362685076073           0           1              0              0   \n",
       "JOB1362685152718           0           0              0              0   \n",
       "\n",
       "                  industry_EDUCATION  industry_FINANCE  industry_HEALTH  \\\n",
       "jobId                                                                     \n",
       "JOB1362684436101                   0                 0                0   \n",
       "JOB1362685235155                   0                 0                1   \n",
       "JOB1362684848538                   0                 1                0   \n",
       "JOB1362685076073                   0                 1                0   \n",
       "JOB1362685152718                   0                 0                0   \n",
       "\n",
       "                  industry_OIL  industry_SERVICE  industry_WEB  \n",
       "jobId                                                           \n",
       "JOB1362684436101             0                 0             1  \n",
       "JOB1362685235155             0                 0             0  \n",
       "JOB1362684848538             0                 0             0  \n",
       "JOB1362685076073             0                 0             0  \n",
       "JOB1362685152718             0                 1             0  "
      ]
     },
     "execution_count": 45,
     "metadata": {},
     "output_type": "execute_result"
    }
   ],
   "source": [
    "cols_to_filter = ['companyId']\n",
    "ordinal_cols = {'jobType': ['JANITOR', 'JUNIOR', 'SENIOR', 'MANAGER', 'VICE_PRESIDENT', 'CFO', 'CTO', 'CEO'],\n",
    "                'degree': ['NONE', 'HIGH_SCHOOL', 'BACHELORS', 'MASTERS', 'DOCTORAL']\n",
    "               }\n",
    "\n",
    "p_simple = Preprocessing(cols_to_filter=cols_to_filter, ordinal_cols=ordinal_cols)\n",
    "\n",
    "#t_ denotes that the data has been transformed\n",
    "t_features_train = p_simple.fit_transform(features_train)\n",
    "t_features_tune = p_simple.transform(features_tune)\n",
    "\n",
    "t_features_train.head()"
   ]
  },
  {
   "cell_type": "code",
   "execution_count": 46,
   "metadata": {},
   "outputs": [
    {
     "name": "stdout",
     "output_type": "stream",
     "text": [
      "Error: 379.6120460101556\n"
     ]
    }
   ],
   "source": [
    "from sklearn.linear_model import LinearRegression\n",
    "\n",
    "lr = LinearRegression()\n",
    "\n",
    "lr.fit(t_features_train, salary_train)\n",
    "\n",
    "salary_pred = lr.predict(t_features_tune)\n",
    "error = mean_squared_error(salary_pred, salary_tune)\n",
    "print(f\"Error: {error}\")"
   ]
  },
  {
   "cell_type": "code",
   "execution_count": 47,
   "metadata": {},
   "outputs": [
    {
     "data": {
      "text/html": [
       "<div>\n",
       "<style scoped>\n",
       "    .dataframe tbody tr th:only-of-type {\n",
       "        vertical-align: middle;\n",
       "    }\n",
       "\n",
       "    .dataframe tbody tr th {\n",
       "        vertical-align: top;\n",
       "    }\n",
       "\n",
       "    .dataframe thead th {\n",
       "        text-align: right;\n",
       "    }\n",
       "</style>\n",
       "<table border=\"1\" class=\"dataframe\">\n",
       "  <thead>\n",
       "    <tr style=\"text-align: right;\">\n",
       "      <th></th>\n",
       "      <th>jobType</th>\n",
       "      <th>degree</th>\n",
       "      <th>yearsExperience</th>\n",
       "      <th>milesFromMetropolis</th>\n",
       "      <th>attendedCollege</th>\n",
       "      <th>gradTypes</th>\n",
       "      <th>major_BIOLOGY</th>\n",
       "      <th>major_BUSINESS</th>\n",
       "      <th>major_CHEMISTRY</th>\n",
       "      <th>major_COMPSCI</th>\n",
       "      <th>...</th>\n",
       "      <th>major_NONE</th>\n",
       "      <th>major_PHYSICS</th>\n",
       "      <th>industry_AUTO</th>\n",
       "      <th>industry_EDUCATION</th>\n",
       "      <th>industry_FINANCE</th>\n",
       "      <th>industry_HEALTH</th>\n",
       "      <th>industry_OIL</th>\n",
       "      <th>industry_SERVICE</th>\n",
       "      <th>industry_WEB</th>\n",
       "      <th>combo</th>\n",
       "    </tr>\n",
       "    <tr>\n",
       "      <th>jobId</th>\n",
       "      <th></th>\n",
       "      <th></th>\n",
       "      <th></th>\n",
       "      <th></th>\n",
       "      <th></th>\n",
       "      <th></th>\n",
       "      <th></th>\n",
       "      <th></th>\n",
       "      <th></th>\n",
       "      <th></th>\n",
       "      <th></th>\n",
       "      <th></th>\n",
       "      <th></th>\n",
       "      <th></th>\n",
       "      <th></th>\n",
       "      <th></th>\n",
       "      <th></th>\n",
       "      <th></th>\n",
       "      <th></th>\n",
       "      <th></th>\n",
       "      <th></th>\n",
       "    </tr>\n",
       "  </thead>\n",
       "  <tbody>\n",
       "    <tr>\n",
       "      <th>JOB1362684436101</th>\n",
       "      <td>1.000000</td>\n",
       "      <td>0.5</td>\n",
       "      <td>0.500000</td>\n",
       "      <td>0.676768</td>\n",
       "      <td>True</td>\n",
       "      <td>0.777778</td>\n",
       "      <td>0</td>\n",
       "      <td>0</td>\n",
       "      <td>0</td>\n",
       "      <td>0</td>\n",
       "      <td>...</td>\n",
       "      <td>0</td>\n",
       "      <td>0</td>\n",
       "      <td>0</td>\n",
       "      <td>0</td>\n",
       "      <td>0</td>\n",
       "      <td>0</td>\n",
       "      <td>0</td>\n",
       "      <td>0</td>\n",
       "      <td>1</td>\n",
       "      <td>0.298193</td>\n",
       "    </tr>\n",
       "    <tr>\n",
       "      <th>JOB1362685235155</th>\n",
       "      <td>0.857143</td>\n",
       "      <td>0.0</td>\n",
       "      <td>0.041667</td>\n",
       "      <td>0.606061</td>\n",
       "      <td>False</td>\n",
       "      <td>0.000000</td>\n",
       "      <td>0</td>\n",
       "      <td>0</td>\n",
       "      <td>0</td>\n",
       "      <td>0</td>\n",
       "      <td>...</td>\n",
       "      <td>1</td>\n",
       "      <td>0</td>\n",
       "      <td>0</td>\n",
       "      <td>0</td>\n",
       "      <td>0</td>\n",
       "      <td>1</td>\n",
       "      <td>0</td>\n",
       "      <td>0</td>\n",
       "      <td>0</td>\n",
       "      <td>0.025943</td>\n",
       "    </tr>\n",
       "    <tr>\n",
       "      <th>JOB1362684848538</th>\n",
       "      <td>0.000000</td>\n",
       "      <td>0.0</td>\n",
       "      <td>0.791667</td>\n",
       "      <td>0.787879</td>\n",
       "      <td>False</td>\n",
       "      <td>0.444444</td>\n",
       "      <td>0</td>\n",
       "      <td>0</td>\n",
       "      <td>0</td>\n",
       "      <td>0</td>\n",
       "      <td>...</td>\n",
       "      <td>1</td>\n",
       "      <td>0</td>\n",
       "      <td>0</td>\n",
       "      <td>0</td>\n",
       "      <td>1</td>\n",
       "      <td>0</td>\n",
       "      <td>0</td>\n",
       "      <td>0</td>\n",
       "      <td>0</td>\n",
       "      <td>0.442797</td>\n",
       "    </tr>\n",
       "    <tr>\n",
       "      <th>JOB1362685076073</th>\n",
       "      <td>0.000000</td>\n",
       "      <td>0.0</td>\n",
       "      <td>0.333333</td>\n",
       "      <td>0.949495</td>\n",
       "      <td>False</td>\n",
       "      <td>0.111111</td>\n",
       "      <td>0</td>\n",
       "      <td>0</td>\n",
       "      <td>0</td>\n",
       "      <td>0</td>\n",
       "      <td>...</td>\n",
       "      <td>1</td>\n",
       "      <td>0</td>\n",
       "      <td>0</td>\n",
       "      <td>0</td>\n",
       "      <td>1</td>\n",
       "      <td>0</td>\n",
       "      <td>0</td>\n",
       "      <td>0</td>\n",
       "      <td>0</td>\n",
       "      <td>0.170984</td>\n",
       "    </tr>\n",
       "    <tr>\n",
       "      <th>JOB1362685152718</th>\n",
       "      <td>0.428571</td>\n",
       "      <td>1.0</td>\n",
       "      <td>0.041667</td>\n",
       "      <td>0.101010</td>\n",
       "      <td>True</td>\n",
       "      <td>0.333333</td>\n",
       "      <td>0</td>\n",
       "      <td>0</td>\n",
       "      <td>0</td>\n",
       "      <td>0</td>\n",
       "      <td>...</td>\n",
       "      <td>0</td>\n",
       "      <td>0</td>\n",
       "      <td>0</td>\n",
       "      <td>0</td>\n",
       "      <td>0</td>\n",
       "      <td>0</td>\n",
       "      <td>0</td>\n",
       "      <td>1</td>\n",
       "      <td>0</td>\n",
       "      <td>0.037844</td>\n",
       "    </tr>\n",
       "  </tbody>\n",
       "</table>\n",
       "<p>5 rows × 23 columns</p>\n",
       "</div>"
      ],
      "text/plain": [
       "                   jobType  degree  yearsExperience  milesFromMetropolis  \\\n",
       "jobId                                                                      \n",
       "JOB1362684436101  1.000000     0.5         0.500000             0.676768   \n",
       "JOB1362685235155  0.857143     0.0         0.041667             0.606061   \n",
       "JOB1362684848538  0.000000     0.0         0.791667             0.787879   \n",
       "JOB1362685076073  0.000000     0.0         0.333333             0.949495   \n",
       "JOB1362685152718  0.428571     1.0         0.041667             0.101010   \n",
       "\n",
       "                  attendedCollege  gradTypes  major_BIOLOGY  major_BUSINESS  \\\n",
       "jobId                                                                         \n",
       "JOB1362684436101             True   0.777778              0               0   \n",
       "JOB1362685235155            False   0.000000              0               0   \n",
       "JOB1362684848538            False   0.444444              0               0   \n",
       "JOB1362685076073            False   0.111111              0               0   \n",
       "JOB1362685152718             True   0.333333              0               0   \n",
       "\n",
       "                  major_CHEMISTRY  major_COMPSCI  ...  major_NONE  \\\n",
       "jobId                                             ...               \n",
       "JOB1362684436101                0              0  ...           0   \n",
       "JOB1362685235155                0              0  ...           1   \n",
       "JOB1362684848538                0              0  ...           1   \n",
       "JOB1362685076073                0              0  ...           1   \n",
       "JOB1362685152718                0              0  ...           0   \n",
       "\n",
       "                  major_PHYSICS  industry_AUTO  industry_EDUCATION  \\\n",
       "jobId                                                                \n",
       "JOB1362684436101              0              0                   0   \n",
       "JOB1362685235155              0              0                   0   \n",
       "JOB1362684848538              0              0                   0   \n",
       "JOB1362685076073              0              0                   0   \n",
       "JOB1362685152718              0              0                   0   \n",
       "\n",
       "                  industry_FINANCE  industry_HEALTH  industry_OIL  \\\n",
       "jobId                                                               \n",
       "JOB1362684436101                 0                0             0   \n",
       "JOB1362685235155                 0                1             0   \n",
       "JOB1362684848538                 1                0             0   \n",
       "JOB1362685076073                 1                0             0   \n",
       "JOB1362685152718                 0                0             0   \n",
       "\n",
       "                  industry_SERVICE  industry_WEB     combo  \n",
       "jobId                                                       \n",
       "JOB1362684436101                 0             1  0.298193  \n",
       "JOB1362685235155                 0             0  0.025943  \n",
       "JOB1362684848538                 0             0  0.442797  \n",
       "JOB1362685076073                 0             0  0.170984  \n",
       "JOB1362685152718                 1             0  0.037844  \n",
       "\n",
       "[5 rows x 23 columns]"
      ]
     },
     "execution_count": 47,
     "metadata": {},
     "output_type": "execute_result"
    }
   ],
   "source": [
    "cols_to_filter = ['companyId']\n",
    "ordinal_cols = {'jobType': ['JANITOR', 'JUNIOR', 'SENIOR', 'MANAGER', 'VICE_PRESIDENT', 'CFO', 'CTO', 'CEO'],\n",
    "                'degree': ['NONE', 'HIGH_SCHOOL', 'BACHELORS', 'MASTERS', 'DOCTORAL']\n",
    "               }\n",
    "binned_cols = {'yearsExperience': 5}\n",
    "p = Preprocessing(cols_to_filter=cols_to_filter, ordinal_cols=ordinal_cols,\n",
    "                  binned_cols=binned_cols, grad_types=True,\n",
    "                  combo=True                          \n",
    "                 )\n",
    "\n",
    "#t_ denotes that the data has been transformed\n",
    "t_features_train = p.fit_transform(features_train)\n",
    "t_features_tune = p.transform(features_tune)\n",
    "\n",
    "t_features_train.head()"
   ]
  },
  {
   "cell_type": "code",
   "execution_count": 12,
   "metadata": {},
   "outputs": [
    {
     "data": {
      "text/html": [
       "<div>\n",
       "<style scoped>\n",
       "    .dataframe tbody tr th:only-of-type {\n",
       "        vertical-align: middle;\n",
       "    }\n",
       "\n",
       "    .dataframe tbody tr th {\n",
       "        vertical-align: top;\n",
       "    }\n",
       "\n",
       "    .dataframe thead th {\n",
       "        text-align: right;\n",
       "    }\n",
       "</style>\n",
       "<table border=\"1\" class=\"dataframe\">\n",
       "  <thead>\n",
       "    <tr style=\"text-align: right;\">\n",
       "      <th></th>\n",
       "      <th>jobType</th>\n",
       "      <th>degree</th>\n",
       "      <th>yearsExperience</th>\n",
       "      <th>milesFromMetropolis</th>\n",
       "      <th>attendedCollege</th>\n",
       "      <th>gradTypes</th>\n",
       "      <th>major_BIOLOGY</th>\n",
       "      <th>major_BUSINESS</th>\n",
       "      <th>major_CHEMISTRY</th>\n",
       "      <th>major_COMPSCI</th>\n",
       "      <th>...</th>\n",
       "      <th>major_NONE</th>\n",
       "      <th>major_PHYSICS</th>\n",
       "      <th>industry_AUTO</th>\n",
       "      <th>industry_EDUCATION</th>\n",
       "      <th>industry_FINANCE</th>\n",
       "      <th>industry_HEALTH</th>\n",
       "      <th>industry_OIL</th>\n",
       "      <th>industry_SERVICE</th>\n",
       "      <th>industry_WEB</th>\n",
       "      <th>combo</th>\n",
       "    </tr>\n",
       "    <tr>\n",
       "      <th>jobId</th>\n",
       "      <th></th>\n",
       "      <th></th>\n",
       "      <th></th>\n",
       "      <th></th>\n",
       "      <th></th>\n",
       "      <th></th>\n",
       "      <th></th>\n",
       "      <th></th>\n",
       "      <th></th>\n",
       "      <th></th>\n",
       "      <th></th>\n",
       "      <th></th>\n",
       "      <th></th>\n",
       "      <th></th>\n",
       "      <th></th>\n",
       "      <th></th>\n",
       "      <th></th>\n",
       "      <th></th>\n",
       "      <th></th>\n",
       "      <th></th>\n",
       "      <th></th>\n",
       "    </tr>\n",
       "  </thead>\n",
       "  <tbody>\n",
       "    <tr>\n",
       "      <th>JOB1362684726456</th>\n",
       "      <td>0.000000</td>\n",
       "      <td>0.25</td>\n",
       "      <td>0.000000</td>\n",
       "      <td>0.707071</td>\n",
       "      <td>False</td>\n",
       "      <td>0.000000</td>\n",
       "      <td>0</td>\n",
       "      <td>0</td>\n",
       "      <td>0</td>\n",
       "      <td>0</td>\n",
       "      <td>...</td>\n",
       "      <td>1</td>\n",
       "      <td>0</td>\n",
       "      <td>0</td>\n",
       "      <td>1</td>\n",
       "      <td>0</td>\n",
       "      <td>0</td>\n",
       "      <td>0</td>\n",
       "      <td>0</td>\n",
       "      <td>0</td>\n",
       "      <td>0.000000</td>\n",
       "    </tr>\n",
       "    <tr>\n",
       "      <th>JOB1362685354568</th>\n",
       "      <td>0.142857</td>\n",
       "      <td>1.00</td>\n",
       "      <td>0.541667</td>\n",
       "      <td>0.797980</td>\n",
       "      <td>True</td>\n",
       "      <td>0.777778</td>\n",
       "      <td>0</td>\n",
       "      <td>0</td>\n",
       "      <td>0</td>\n",
       "      <td>0</td>\n",
       "      <td>...</td>\n",
       "      <td>1</td>\n",
       "      <td>0</td>\n",
       "      <td>0</td>\n",
       "      <td>0</td>\n",
       "      <td>0</td>\n",
       "      <td>0</td>\n",
       "      <td>1</td>\n",
       "      <td>0</td>\n",
       "      <td>0</td>\n",
       "      <td>0.301264</td>\n",
       "    </tr>\n",
       "    <tr>\n",
       "      <th>JOB1362684749941</th>\n",
       "      <td>0.428571</td>\n",
       "      <td>1.00</td>\n",
       "      <td>0.958333</td>\n",
       "      <td>0.545455</td>\n",
       "      <td>True</td>\n",
       "      <td>1.000000</td>\n",
       "      <td>1</td>\n",
       "      <td>0</td>\n",
       "      <td>0</td>\n",
       "      <td>0</td>\n",
       "      <td>...</td>\n",
       "      <td>0</td>\n",
       "      <td>0</td>\n",
       "      <td>0</td>\n",
       "      <td>0</td>\n",
       "      <td>0</td>\n",
       "      <td>0</td>\n",
       "      <td>0</td>\n",
       "      <td>1</td>\n",
       "      <td>0</td>\n",
       "      <td>0.620098</td>\n",
       "    </tr>\n",
       "    <tr>\n",
       "      <th>JOB1362684976789</th>\n",
       "      <td>0.714286</td>\n",
       "      <td>0.50</td>\n",
       "      <td>0.416667</td>\n",
       "      <td>0.484848</td>\n",
       "      <td>True</td>\n",
       "      <td>0.777778</td>\n",
       "      <td>0</td>\n",
       "      <td>0</td>\n",
       "      <td>0</td>\n",
       "      <td>0</td>\n",
       "      <td>...</td>\n",
       "      <td>1</td>\n",
       "      <td>0</td>\n",
       "      <td>0</td>\n",
       "      <td>0</td>\n",
       "      <td>0</td>\n",
       "      <td>1</td>\n",
       "      <td>0</td>\n",
       "      <td>0</td>\n",
       "      <td>0</td>\n",
       "      <td>0.280612</td>\n",
       "    </tr>\n",
       "    <tr>\n",
       "      <th>JOB1362685069181</th>\n",
       "      <td>0.714286</td>\n",
       "      <td>0.25</td>\n",
       "      <td>0.291667</td>\n",
       "      <td>0.666667</td>\n",
       "      <td>False</td>\n",
       "      <td>0.111111</td>\n",
       "      <td>0</td>\n",
       "      <td>0</td>\n",
       "      <td>0</td>\n",
       "      <td>0</td>\n",
       "      <td>...</td>\n",
       "      <td>1</td>\n",
       "      <td>0</td>\n",
       "      <td>0</td>\n",
       "      <td>0</td>\n",
       "      <td>0</td>\n",
       "      <td>0</td>\n",
       "      <td>1</td>\n",
       "      <td>0</td>\n",
       "      <td>0</td>\n",
       "      <td>0.175000</td>\n",
       "    </tr>\n",
       "  </tbody>\n",
       "</table>\n",
       "<p>5 rows × 23 columns</p>\n",
       "</div>"
      ],
      "text/plain": [
       "                   jobType  degree  yearsExperience  milesFromMetropolis  \\\n",
       "jobId                                                                      \n",
       "JOB1362684726456  0.000000    0.25         0.000000             0.707071   \n",
       "JOB1362685354568  0.142857    1.00         0.541667             0.797980   \n",
       "JOB1362684749941  0.428571    1.00         0.958333             0.545455   \n",
       "JOB1362684976789  0.714286    0.50         0.416667             0.484848   \n",
       "JOB1362685069181  0.714286    0.25         0.291667             0.666667   \n",
       "\n",
       "                  attendedCollege  gradTypes  major_BIOLOGY  major_BUSINESS  \\\n",
       "jobId                                                                         \n",
       "JOB1362684726456            False   0.000000              0               0   \n",
       "JOB1362685354568             True   0.777778              0               0   \n",
       "JOB1362684749941             True   1.000000              1               0   \n",
       "JOB1362684976789             True   0.777778              0               0   \n",
       "JOB1362685069181            False   0.111111              0               0   \n",
       "\n",
       "                  major_CHEMISTRY  major_COMPSCI  ...  major_NONE  \\\n",
       "jobId                                             ...               \n",
       "JOB1362684726456                0              0  ...           1   \n",
       "JOB1362685354568                0              0  ...           1   \n",
       "JOB1362684749941                0              0  ...           0   \n",
       "JOB1362684976789                0              0  ...           1   \n",
       "JOB1362685069181                0              0  ...           1   \n",
       "\n",
       "                  major_PHYSICS  industry_AUTO  industry_EDUCATION  \\\n",
       "jobId                                                                \n",
       "JOB1362684726456              0              0                   1   \n",
       "JOB1362685354568              0              0                   0   \n",
       "JOB1362684749941              0              0                   0   \n",
       "JOB1362684976789              0              0                   0   \n",
       "JOB1362685069181              0              0                   0   \n",
       "\n",
       "                  industry_FINANCE  industry_HEALTH  industry_OIL  \\\n",
       "jobId                                                               \n",
       "JOB1362684726456                 0                0             0   \n",
       "JOB1362685354568                 0                0             1   \n",
       "JOB1362684749941                 0                0             0   \n",
       "JOB1362684976789                 0                1             0   \n",
       "JOB1362685069181                 0                0             1   \n",
       "\n",
       "                  industry_SERVICE  industry_WEB     combo  \n",
       "jobId                                                       \n",
       "JOB1362684726456                 0             0  0.000000  \n",
       "JOB1362685354568                 0             0  0.301264  \n",
       "JOB1362684749941                 1             0  0.620098  \n",
       "JOB1362684976789                 0             0  0.280612  \n",
       "JOB1362685069181                 0             0  0.175000  \n",
       "\n",
       "[5 rows x 23 columns]"
      ]
     },
     "execution_count": 12,
     "metadata": {},
     "output_type": "execute_result"
    }
   ],
   "source": [
    "t_features_tune.head()"
   ]
  },
  {
   "cell_type": "code",
   "execution_count": 48,
   "metadata": {},
   "outputs": [
    {
     "name": "stdout",
     "output_type": "stream",
     "text": [
      "Feature Engineered Error: 367.355949977777\n"
     ]
    }
   ],
   "source": [
    "lr = LinearRegression()\n",
    "\n",
    "lr.fit(t_features_train, salary_train)\n",
    "\n",
    "salary_pred = lr.predict(t_features_tune)\n",
    "error = mean_squared_error(salary_pred, salary_tune)\n",
    "print(f\"Feature Engineered Error: {error}\")"
   ]
  },
  {
   "cell_type": "markdown",
   "metadata": {},
   "source": [
    "### Creating Models: K-Nearest Neighbors"
   ]
  },
  {
   "cell_type": "markdown",
   "metadata": {},
   "source": [
    "I'm going to start __K-Nearest Neighbor (KNN)__ model. I need to figure out what the best option for 'k' will be as well as how I would like to weight these neighbors when doing the calculation. For instance, it may be fruitful to make sure instances which are far away are not as prevalent as instances which are closer. Another option I will test is treating all k-nearest instances the the same."
   ]
  },
  {
   "cell_type": "code",
   "execution_count": 49,
   "metadata": {},
   "outputs": [],
   "source": [
    "from sklearn.neighbors import KNeighborsRegressor\n",
    "\n",
    "def tune_parameters_KNN(X_train, X_tune, y_train, y_tune, k, weights='distance'):\n",
    "    \"\"\"Finds the MSE of Nearest Neighbor Regression on a varying number of nearest neigbors\n",
    "    Args:\n",
    "        X: DataFrame, Feature data\n",
    "        y: Series, Target data\n",
    "        k: list of ints, number of neighbors to make the regression\n",
    "        weights: string, tells the model how to weight the neighbors when calculating the regression\n",
    "        \n",
    "    Returns:\n",
    "        error: ndarray, holds MSE between the predicted salary and the actual salary\n",
    "    \"\"\"\n",
    "    \n",
    "    error = np.zeros(len(k))\n",
    "    \n",
    "    for i, n_neighbors in enumerate(k):\n",
    "        knn = KNeighborsRegressor(n_neighbors=n_neighbors, weights=weights, n_jobs=-1)\n",
    "        knn.fit(X_train, y_train)\n",
    "        y_pred = knn.predict(X_tune)\n",
    "        error[i] = mean_squared_error(y_pred, y_tune)\n",
    "        \n",
    "        del knn\n",
    "        \n",
    "        print(f\"Number of Neighbors: {n_neighbors}\")\n",
    "        print(f\"Error: {error[i]}\")\n",
    "    \n",
    "    return error\n",
    "        "
   ]
  },
  {
   "cell_type": "code",
   "execution_count": 19,
   "metadata": {},
   "outputs": [
    {
     "name": "stdout",
     "output_type": "stream",
     "text": [
      "Number of Neighbors: 4\n",
      "Error: 489.85047876169597\n",
      "Number of Neighbors: 14\n",
      "Error: 441.62691051745554\n",
      "Number of Neighbors: 24\n",
      "Error: 432.4422734096559\n",
      "Number of Neighbors: 34\n",
      "Error: 428.24383054112553\n",
      "Number of Neighbors: 44\n",
      "Error: 425.85013443348134\n",
      "Number of Neighbors: 54\n",
      "Error: 424.4234859283292\n",
      "Number of Neighbors: 64\n",
      "Error: 423.51160805546806\n",
      "Number of Neighbors: 74\n",
      "Error: 422.8460656109531\n",
      "Number of Neighbors: 84\n",
      "Error: 422.52642209761154\n",
      "Number of Neighbors: 94\n",
      "Error: 422.32914463351966\n"
     ]
    }
   ],
   "source": [
    "k_dis = [x for x in range(4, 100, 10)]\n",
    "\n",
    "# Distance weighting of neighbors error\n",
    "dis_error = tune_parameters_KNN(t_features_train, t_features_tune, salary_train, salary_tune, k_dis)"
   ]
  },
  {
   "cell_type": "code",
   "execution_count": 20,
   "metadata": {
    "scrolled": true
   },
   "outputs": [
    {
     "name": "stdout",
     "output_type": "stream",
     "text": [
      "Number of Neighbors: 4\n",
      "Error: 425.8673068610783\n",
      "Number of Neighbors: 14\n",
      "Error: 367.85955210600514\n",
      "Number of Neighbors: 24\n",
      "Error: 359.8724673379183\n",
      "Number of Neighbors: 34\n",
      "Error: 356.32798053916144\n",
      "Number of Neighbors: 44\n",
      "Error: 354.2440731926385\n",
      "Number of Neighbors: 54\n",
      "Error: 353.14186533170937\n",
      "Number of Neighbors: 64\n",
      "Error: 352.538800461967\n",
      "Number of Neighbors: 74\n",
      "Error: 352.20100883618346\n",
      "Number of Neighbors: 84\n",
      "Error: 352.3439351241173\n",
      "Number of Neighbors: 94\n",
      "Error: 352.53708949709136\n"
     ]
    }
   ],
   "source": [
    "k_uw = [x for x in range(4, 100, 10)]\n",
    "\n",
    "# Uniform weighting of neighbors error\n",
    "uw_error = tune_parameters_KNN(t_features_train, t_features_tune, salary_train, salary_tune, k_uw, weights='uniform')"
   ]
  },
  {
   "cell_type": "code",
   "execution_count": 21,
   "metadata": {},
   "outputs": [
    {
     "data": {
      "text/plain": [
       "<matplotlib.legend.Legend at 0x7fd7958819b0>"
      ]
     },
     "execution_count": 21,
     "metadata": {},
     "output_type": "execute_result"
    },
    {
     "data": {
      "image/png": "[encoded data removed]",
      "text/plain": [
       "<Figure size 432x288 with 1 Axes>"
      ]
     },
     "metadata": {
      "needs_background": "light"
     },
     "output_type": "display_data"
    }
   ],
   "source": [
    "plt.plot(k_dis, dis_error, label='Distance weighted neighbors')\n",
    "plt.plot(k_uw, uw_error, label='Uniform weighted neighbors')\n",
    "plt.xlabel('Number of neighbors')\n",
    "plt.ylabel('Mean Squared Error')\n",
    "plt.legend()"
   ]
  },
  {
   "cell_type": "markdown",
   "metadata": {},
   "source": [
    "The MSE for KNN is minimized when *n_neighbors* is set to about 74 and the neighbors are uniformly weighted when performing the regression. They both show the same trajectory in their errors, but uniform is better by about 70 for each value of neighbor. \n",
    "\n",
    "Initially, I ran the KNN algorithm without scaling the numerical values, and that was rather disconcerting because MSE for KNN was plateauing about 475 rather than the 352 it is now. I then remembered that I would be weighting the numerical columns with a higher importance because they were outside of the dummied features' range. I re-adjusted Preprocessing.py to make the training data span 0-1 and to transform the test data on the same scale provided by the training data. The same scale is used for both the test and training sets because we can not learn any new information from the test data, including a better way to scale the testing data.\n",
    "\n",
    "In the future, I would also test various metrics being used for the distance formula. I still might when performing the grid search, but I have yet to decide at this stage right now."
   ]
  },
  {
   "cell_type": "markdown",
   "metadata": {},
   "source": [
    "### Creating Models: Random Forest"
   ]
  },
  {
   "cell_type": "markdown",
   "metadata": {},
   "source": [
    "Now, I'll start tuning for the __Random Forest (RF)__ regression model. I'll tune the *max_depth*, *max_features*, and *min_samples_leaf* features seperately with a smaller number of estimators. Then I will give a fine tune with a grid search of hyperparameter values closer to the best values for the small number of estimators. Note that I will be using oob score as a kind of cross validation when building the forest to quantify the accuracy of each model. This cross validation will output the average $R^2$ score on the data not used in each estimator. The higher the oob score, the better the parameters are for the model. "
   ]
  },
  {
   "cell_type": "code",
   "execution_count": 8,
   "metadata": {},
   "outputs": [
    {
     "name": "stdout",
     "output_type": "stream",
     "text": [
      "Baseline Error: 424.09947422934766\n"
     ]
    }
   ],
   "source": [
    "# baseline model so we know how much better changing the hyperparameters makes the model\n",
    "from sklearn.ensemble import RandomForestRegressor\n",
    "\n",
    "# All of these parameters will remain the same when I change the hyperparameters\n",
    "rf = RandomForestRegressor(random_state=44, n_estimators=35, criterion='mse', n_jobs=-1)\n",
    "\n",
    "\n",
    "rf.fit(t_features_train, salary_train)\n",
    "rf_baseline_salary_pred = rf.predict(t_features_tune)\n",
    "rf_baseline_error = mean_squared_error(rf_baseline_salary_pred, salary_tune)\n",
    "\n",
    "del rf\n",
    "\n",
    "print(f\"Baseline Error: {rf_baseline_error}\")"
   ]
  },
  {
   "cell_type": "code",
   "execution_count": 11,
   "metadata": {},
   "outputs": [
    {
     "name": "stdout",
     "output_type": "stream",
     "text": [
      "Maximum depth: 1\n",
      "MSE: 1044.3218202749115\n",
      "Maximum depth: 5\n",
      "MSE: 559.3964051133263\n",
      "Maximum depth: 10\n",
      "MSE: 396.0011719753005\n",
      "Maximum depth: 11\n",
      "MSE: 381.4735719030418\n",
      "Maximum depth: 12\n",
      "MSE: 371.49028491192223\n",
      "Maximum depth: 13\n",
      "MSE: 364.4704644124682\n",
      "Maximum depth: 14\n",
      "MSE: 360.5838889411303\n",
      "Maximum depth: 15\n",
      "MSE: 360.04476943039225\n",
      "Maximum depth: 16\n",
      "MSE: 362.1085574513115\n",
      "Maximum depth: 17\n",
      "MSE: 366.4388912502845\n",
      "Maximum depth: 20\n",
      "MSE: 385.31653192878935\n",
      "Maximum depth: 25\n",
      "MSE: 413.4155333948385\n"
     ]
    }
   ],
   "source": [
    "# Values for max_depth I'd like to test\n",
    "max_depths = [1, 5, 10, 11, 12, 13, 14, 15, 16, 17, 20, 25]\n",
    "\n",
    "mse_md = np.zeros(len(max_depths))\n",
    "    \n",
    "for i, max_depth in enumerate(max_depths):\n",
    "    # Every hyperparameter is their default, I just wanted to be explicit\n",
    "    rf = RandomForestRegressor(max_depth=max_depth, n_estimators=35,\n",
    "                                min_samples_leaf=1, max_features='auto',\n",
    "                                n_jobs=-1, random_state=44,\n",
    "                                criterion='mse'\n",
    "                              )\n",
    "        \n",
    "    rf.fit(t_features_train, salary_train)\n",
    "    salary_pred = rf.predict(t_features_tune)\n",
    "        \n",
    "    mse_md[i] = mean_squared_error(salary_pred, salary_tune)\n",
    "    del rf\n",
    "    \n",
    "    print(f\"Maximum depth: {max_depth}\")\n",
    "    print(f\"MSE: {mse_md[i]}\")"
   ]
  },
  {
   "cell_type": "code",
   "execution_count": 16,
   "metadata": {},
   "outputs": [
    {
     "name": "stdout",
     "output_type": "stream",
     "text": [
      "Minimum MSE occurs when max_depth is set to 15\n"
     ]
    },
    {
     "data": {
      "image/png": "[encoded data removed]",
      "text/plain": [
       "<Figure size 432x288 with 1 Axes>"
      ]
     },
     "metadata": {
      "needs_background": "light"
     },
     "output_type": "display_data"
    }
   ],
   "source": [
    "max_depth_results = pd.Series(mse_md, index=max_depths)\n",
    "\n",
    "ax = max_depth_results.plot()\n",
    "ax.set_xlabel('Maximum Depth')\n",
    "ax.set_ylabel('MSE')\n",
    "\n",
    "print(f\"Minimum MSE occurs when max_depth is set to {max_depth_results.idxmin()}\")"
   ]
  },
  {
   "cell_type": "code",
   "execution_count": 18,
   "metadata": {},
   "outputs": [
    {
     "name": "stdout",
     "output_type": "stream",
     "text": [
      "Samples: 1\n",
      "MSE: 360.04476943039225\n",
      "Samples: 2\n",
      "MSE: 359.67765578971625\n",
      "Samples: 3\n",
      "MSE: 359.1846208291261\n",
      "Samples: 6\n",
      "MSE: 358.0535826474342\n",
      "Samples: 8\n",
      "MSE: 357.4240302514295\n",
      "Samples: 9\n",
      "MSE: 357.2053802622666\n",
      "Samples: 10\n",
      "MSE: 357.0820009052427\n",
      "Samples: 11\n",
      "MSE: 356.95232238253084\n",
      "Samples: 12\n",
      "MSE: 356.8228262022445\n",
      "Samples: 13\n",
      "MSE: 356.71825413644774\n",
      "Samples: 14\n",
      "MSE: 356.67885484491256\n",
      "Samples: 16\n",
      "MSE: 356.486774448772\n",
      "Samples: 17\n",
      "MSE: 356.4684671358036\n",
      "Samples: 18\n",
      "MSE: 356.42379539993675\n",
      "Samples: 20\n",
      "MSE: 356.43034550403763\n",
      "Samples: 25\n",
      "MSE: 356.50137183656216\n"
     ]
    }
   ],
   "source": [
    "# Values for min_samples_leaf hyperparameter\n",
    "min_samples_leaf = [1, 2, 3, 6, 8, 9, 10,11, 12, 13, 14, 16, 17, 18, 20, 25]\n",
    "mse_msl = np.zeros(len(min_samples_leaf))\n",
    "\n",
    "for i, sample in enumerate(min_samples_leaf):\n",
    "\n",
    "    rf = RandomForestRegressor(n_estimators=35, max_depth=15,\n",
    "                               min_samples_leaf=sample, max_features='auto',\n",
    "                               n_jobs=-1, random_state=44\n",
    "                              )\n",
    "    rf.fit(t_features_train, salary_train)\n",
    "    salary_pred = rf.predict(t_features_tune)\n",
    "        \n",
    "    mse_msl[i] = mean_squared_error(salary_pred, salary_tune)\n",
    "\n",
    "    del rf\n",
    "    \n",
    "    print(f\"Samples: {sample}\")\n",
    "    print(f\"MSE: {mse_msl[i]}\")"
   ]
  },
  {
   "cell_type": "code",
   "execution_count": 19,
   "metadata": {},
   "outputs": [
    {
     "name": "stdout",
     "output_type": "stream",
     "text": [
      "The minimum MSE occurs when min_samples_leaf is set to 18\n"
     ]
    },
    {
     "data": {
      "text/plain": [
       "<matplotlib.axes._subplots.AxesSubplot at 0x7f3fe1273240>"
      ]
     },
     "execution_count": 19,
     "metadata": {},
     "output_type": "execute_result"
    },
    {
     "data": {
      "image/png": "[encoded data removed]",
      "text/plain": [
       "<Figure size 432x288 with 1 Axes>"
      ]
     },
     "metadata": {
      "needs_background": "light"
     },
     "output_type": "display_data"
    }
   ],
   "source": [
    "min_leaf_results = pd.Series(mse_msl, index=min_samples_leaf)\n",
    "\n",
    "print(\"The minimum MSE occurs when min_samples_leaf is\"\n",
    "      f\" set to {min_leaf_results.idxmin()}\"\n",
    "     )\n",
    "\n",
    "min_leaf_results.plot()"
   ]
  },
  {
   "cell_type": "code",
   "execution_count": 22,
   "metadata": {},
   "outputs": [
    {
     "name": "stdout",
     "output_type": "stream",
     "text": [
      "Method: auto\n",
      "MSE: 356.42379539993675\n",
      "Method: sqrt\n",
      "MSE: 362.1337557654112\n",
      "Method: log2\n",
      "MSE: 362.1337557654112\n",
      "Method: None\n",
      "MSE: 356.42379539993675\n",
      "Method: 0.1\n",
      "MSE: 387.0431456173938\n",
      "Method: 0.2\n",
      "MSE: 362.13375576541125\n",
      "Method: 0.3\n",
      "MSE: 356.35228566774157\n",
      "Method: 0.4\n",
      "MSE: 354.57559353454366\n",
      "Method: 0.5\n",
      "MSE: 354.5308780684621\n",
      "Method: 0.6\n",
      "MSE: 354.67960957796635\n",
      "Method: 0.7\n",
      "MSE: 354.4832107758144\n",
      "Method: 0.8\n",
      "MSE: 354.64927227232903\n",
      "Method: 0.9\n",
      "MSE: 355.01336052983186\n"
     ]
    }
   ],
   "source": [
    "# Values I'll be testing for Hyperparameter max_features\n",
    "max_features = ['auto', 'sqrt', 'log2', None, .1, .2, .3, .4, .5, .6, .7, .8, .9]\n",
    "mse_mf = np.zeros(len(max_features))\n",
    "\n",
    "for i, max_feature in enumerate(max_features):\n",
    "\n",
    "    rf = RandomForestRegressor(n_estimators=35, max_depth=15,\n",
    "                               min_samples_leaf=18, max_features=max_feature,\n",
    "                               n_jobs=-1, random_state=44\n",
    "                              )\n",
    "    rf.fit(t_features_train, salary_train)\n",
    "    salary_pred = rf.predict(t_features_tune)\n",
    "        \n",
    "    mse_mf[i] = mean_squared_error(salary_pred, salary_tune)\n",
    "    del rf\n",
    "    \n",
    "    print(f\"Method: {max_feature}\")\n",
    "    print(f\"MSE: {mse_mf[i]}\")"
   ]
  },
  {
   "cell_type": "code",
   "execution_count": 23,
   "metadata": {},
   "outputs": [
    {
     "name": "stdout",
     "output_type": "stream",
     "text": [
      "The minimum MSE occurs when max_features is set to 0.7\n"
     ]
    },
    {
     "data": {
      "image/png": "[encoded data removed]",
      "text/plain": [
       "<Figure size 432x288 with 1 Axes>"
      ]
     },
     "metadata": {
      "needs_background": "light"
     },
     "output_type": "display_data"
    }
   ],
   "source": [
    "max_features_result = pd.Series(mse_mf, index=max_features)\n",
    "\n",
    "ax = max_features_result.plot.bar(ylim=(354, 385))\n",
    "ax.set_xlabel('Method')\n",
    "ax.set_ylabel('MSE')\n",
    "ax.set_title('Maximum Features Allowed Accuracies')\n",
    "\n",
    "print(\"The minimum MSE occurs when max_features is\"\n",
    "      f\" set to {max_features_result.idxmin()}\"\n",
    "     )"
   ]
  },
  {
   "cell_type": "code",
   "execution_count": 24,
   "metadata": {},
   "outputs": [
    {
     "name": "stdout",
     "output_type": "stream",
     "text": [
      "Method: 5\n",
      "MSE: 360.0147457087335\n",
      "Method: 10\n",
      "MSE: 356.80727698125844\n",
      "Method: 15\n",
      "MSE: 355.7859985991801\n",
      "Method: 25\n",
      "MSE: 354.8179075801172\n",
      "Method: 35\n",
      "MSE: 354.4832107758144\n",
      "Method: 50\n",
      "MSE: 354.12877499242575\n",
      "Method: 75\n",
      "MSE: 353.86938221292\n"
     ]
    }
   ],
   "source": [
    "from sklearn.ensemble import RandomForestRegressor\n",
    "n_estimators = [5, 10, 15, 25, 35, 50, 75]\n",
    "\n",
    "mse_ne = np.zeros(len(n_estimators))\n",
    "\n",
    "for i, n in enumerate(n_estimators):\n",
    "    rf = RandomForestRegressor(n_estimators=n, max_depth=15,\n",
    "                               min_samples_leaf=18, max_features=.7,\n",
    "                               n_jobs=-1, random_state=44\n",
    "                              )\n",
    "    rf.fit(t_features_train, salary_train)\n",
    "    salary_pred = rf.predict(t_features_tune)\n",
    "        \n",
    "    mse_ne[i] = mean_squared_error(salary_pred, salary_tune)\n",
    "    del rf\n",
    "    \n",
    "    print(f\"Method: {n}\")\n",
    "    print(f\"MSE: {mse_ne[i]}\")"
   ]
  },
  {
   "cell_type": "code",
   "execution_count": 27,
   "metadata": {},
   "outputs": [
    {
     "name": "stdout",
     "output_type": "stream",
     "text": [
      "The minimum error occurs when n_estimators is set to 75\n"
     ]
    },
    {
     "data": {
      "image/png": "[encoded data removed]",
      "text/plain": [
       "<Figure size 432x288 with 1 Axes>"
      ]
     },
     "metadata": {
      "needs_background": "light"
     },
     "output_type": "display_data"
    }
   ],
   "source": [
    "n_estimators_result = pd.Series(mse_ne, index=n_estimators)\n",
    "\n",
    "ax = n_estimators_result.plot()\n",
    "ax.set_xlabel('n_estimators')\n",
    "ax.set_ylabel('MSE')\n",
    "ax.set_title('Number of Estimators Error')\n",
    "\n",
    "print(\"The minimum error occurs when n_estimators is\"\n",
    "      f\" set to {n_estimators_result.idxmin()}\"\n",
    "     )"
   ]
  },
  {
   "cell_type": "markdown",
   "metadata": {},
   "source": [
    "In a perfect world where I had unlimited computing power and infinite time, I would tune keep increasing n_estimators for as long as my patience would allow (probably around n_estimators=10000) to squeeze out that last thousandth of a percent out of the model. But, I have neither time nor computing power on my hand, so I will be using n_estimators=35 and forgo the extra couple of percentage points of accuracy increasing the estimators will create. This will allow my model to still have a high accuracy while also not limiting my time to actually train the models. \n",
    "\n",
    "In the future, I want to try tuning n_estimators first. Then I will tune the remaining hyperparameters using the n_estimators value at which accuracy begins to plateau. This will allow the tuning process to run quicker instead of taking up almost an entire day. After the rest of the hyperparameters are tuned, then I can increase the number of estimators for the final model with no adverse affects."
   ]
  },
  {
   "cell_type": "code",
   "execution_count": 29,
   "metadata": {},
   "outputs": [
    {
     "name": "stdout",
     "output_type": "stream",
     "text": [
      "Random Forest tuned MSE: 353.224425478855\n"
     ]
    }
   ],
   "source": [
    "# tuned Random Forest model\n",
    "from sklearn.ensemble import RandomForestRegressor\n",
    "from sklearn.model_selection import GridSearchCV\n",
    "\n",
    "rf = RandomForestRegressor(n_estimators=50,\n",
    "                           random_state=44,\n",
    "                           criterion='mse',\n",
    "                           n_jobs=-1\n",
    "                          )\n",
    "\n",
    "parameters = {'min_samples_leaf':[17, 18, 19],\n",
    "              'max_depth': [14, 15, 16],\n",
    "              'max_features': [.35, .4, .5, .7]\n",
    "             }\n",
    "\n",
    "clf = GridSearchCV(rf, parameters, cv=5)\n",
    "\n",
    "clf.fit(t_features_train, salary_train)\n",
    "rf_salary_pred = clf.predict(t_features_tune)\n",
    "rf_error = mean_squared_error(rf_salary_pred, salary_tune)\n",
    "\n",
    "print(f\"Random Forest tuned MSE: {rf_error}\")"
   ]
  },
  {
   "cell_type": "code",
   "execution_count": 31,
   "metadata": {},
   "outputs": [
    {
     "data": {
      "text/plain": [
       "{'max_depth': 16, 'max_features': 0.35, 'min_samples_leaf': 17}"
      ]
     },
     "execution_count": 31,
     "metadata": {},
     "output_type": "execute_result"
    }
   ],
   "source": [
    "clf.best_params_"
   ]
  },
  {
   "cell_type": "markdown",
   "metadata": {},
   "source": [
    "These are all on the edges, so I'm going to widen the window a little on each side and run another grid search with 3 folds"
   ]
  },
  {
   "cell_type": "code",
   "execution_count": 32,
   "metadata": {},
   "outputs": [
    {
     "name": "stdout",
     "output_type": "stream",
     "text": [
      "Random Forest tuned MSE: 352.85381319351717\n"
     ]
    }
   ],
   "source": [
    "rf = RandomForestRegressor(n_estimators=50,\n",
    "                           random_state=44,\n",
    "                           criterion='mse',\n",
    "                           n_jobs=-1\n",
    "                          )\n",
    "\n",
    "parameters = {'min_samples_leaf':[16, 17, 18],\n",
    "              'max_depth': [16, 17, 18],\n",
    "              'max_features': [.3, .35, .4]\n",
    "             }\n",
    "\n",
    "clf = GridSearchCV(rf, parameters, cv=3, scoring='neg_mean_squared_error')\n",
    "\n",
    "clf.fit(t_features_train, salary_train)\n",
    "rf_salary_pred = clf.predict(t_features_tune)\n",
    "rf_error = mean_squared_error(rf_salary_pred, salary_tune)\n",
    "\n",
    "print(f\"Random Forest tuned MSE: {rf_error}\")"
   ]
  },
  {
   "cell_type": "code",
   "execution_count": 33,
   "metadata": {},
   "outputs": [
    {
     "data": {
      "text/plain": [
       "{'max_depth': 18, 'max_features': 0.35, 'min_samples_leaf': 17}"
      ]
     },
     "execution_count": 33,
     "metadata": {},
     "output_type": "execute_result"
    }
   ],
   "source": [
    "clf.best_params_"
   ]
  },
  {
   "cell_type": "code",
   "execution_count": 34,
   "metadata": {},
   "outputs": [
    {
     "name": "stdout",
     "output_type": "stream",
     "text": [
      "Random Forest tuned MSE: 352.6354076330616\n"
     ]
    }
   ],
   "source": [
    "rf = RandomForestRegressor(n_estimators=50,\n",
    "                           random_state=44,\n",
    "                           criterion='mse',\n",
    "                           n_jobs=-1\n",
    "                          )\n",
    "\n",
    "parameters = {'min_samples_leaf':[16, 17, 18],\n",
    "              'max_depth': [20, 21, 22],\n",
    "              'max_features': [.32, .35, .37]\n",
    "             }\n",
    "\n",
    "clf = GridSearchCV(rf, parameters, cv=3, scoring='neg_mean_squared_error')\n",
    "\n",
    "clf.fit(t_features_train, salary_train)\n",
    "rf_salary_pred = clf.predict(t_features_tune)\n",
    "rf_error = mean_squared_error(rf_salary_pred, salary_tune)\n",
    "\n",
    "print(f\"Random Forest tuned MSE: {rf_error}\")"
   ]
  },
  {
   "cell_type": "code",
   "execution_count": 35,
   "metadata": {},
   "outputs": [
    {
     "data": {
      "text/plain": [
       "{'max_depth': 20, 'max_features': 0.35, 'min_samples_leaf': 17}"
      ]
     },
     "execution_count": 35,
     "metadata": {},
     "output_type": "execute_result"
    }
   ],
   "source": [
    "clf.best_params_"
   ]
  },
  {
   "cell_type": "code",
   "execution_count": 41,
   "metadata": {},
   "outputs": [
    {
     "name": "stdout",
     "output_type": "stream",
     "text": [
      "Maximum depth: 20\n",
      "Cross-Validated MSE: 352.0620603976643\n",
      "Maximum depth: 21\n",
      "Cross-Validated MSE: 352.17288987341635\n",
      "Maximum depth: 22\n",
      "Cross-Validated MSE: 352.14573152964164\n",
      "Maximum depth: 23\n",
      "Cross-Validated MSE: 352.08781144286104\n",
      "Maximum depth: 24\n",
      "Cross-Validated MSE: 352.1094453066733\n",
      "Maximum depth: 25\n",
      "Cross-Validated MSE: 352.02390453848085\n",
      "Maximum depth: 26\n",
      "Cross-Validated MSE: 352.1322039739721\n",
      "Maximum depth: 27\n",
      "Cross-Validated MSE: 352.12723556081914\n",
      "Maximum depth: 28\n",
      "Cross-Validated MSE: 352.13281029660146\n",
      "Maximum depth: 29\n",
      "Cross-Validated MSE: 352.12649304564184\n",
      "Maximum depth: 30\n",
      "Cross-Validated MSE: 352.12649304564184\n"
     ]
    }
   ],
   "source": [
    "from sklearn.model_selection import cross_val_score\n",
    "# Values for max_depth I'd like to test\n",
    "max_depths = [20, 21, 22, 23, 24, 25, 26, 27, 28, 29, 30]\n",
    "\n",
    "cv_md = np.zeros(len(max_depths))\n",
    "    \n",
    "for i, max_depth in enumerate(max_depths):\n",
    "    # Every hyperparameter is their default, I just wanted to be explicit\n",
    "    rf = RandomForestRegressor(max_depth=max_depth, n_estimators=50,\n",
    "                                min_samples_leaf=17, max_features=.35,\n",
    "                                n_jobs=-1, random_state=44,\n",
    "                                criterion='mse'\n",
    "                              )\n",
    "   \n",
    "    cv_md[i] = -np.mean(cross_val_score(rf, t_features_train, salary_train, scoring='neg_mean_squared_error', cv=3))\n",
    "    del rf\n",
    "    \n",
    "    print(f\"Maximum depth: {max_depth}\")\n",
    "    print(f\"Cross-Validated MSE: {cv_md[i]}\")"
   ]
  },
  {
   "cell_type": "markdown",
   "metadata": {},
   "source": [
    "It appears I will not be getting a better Random Forest model with this data than I will with the hyperparameters set to:\n",
    "* max_depth=25\n",
    "* min_samples_leaf=17\n",
    "* max_features=.35\n",
    "* n_estimators=50\n",
    "\n",
    "I may increase n_estimators to 100 just to get a tiny bit better results when I do my 5-fold cross-validation."
   ]
  },
  {
   "cell_type": "markdown",
   "metadata": {},
   "source": [
    "## Testing Models\n",
    "* Doing a 5-fold cross validation on models and measuring MSE"
   ]
  },
  {
   "cell_type": "code",
   "execution_count": 42,
   "metadata": {},
   "outputs": [],
   "source": [
    "def cv_models(model, X_train, y_train, cv=5):\n",
    "    \"\"\"Calculates the cv score for a given model, training data and number of folds\n",
    "    \"\"\"\n",
    "    return -np.mean(cross_val_score(model, X_train, y_train, scoring='neg_mean_squared_error', cv=cv))"
   ]
  },
  {
   "cell_type": "code",
   "execution_count": 57,
   "metadata": {},
   "outputs": [],
   "source": [
    "models = {\n",
    "    \"Linear Regression\": LinearRegression(),\n",
    "    \"K-Nearest Neighbors\": KNeighborsRegressor(n_neighbors=75, weights='uniform', n_jobs=-1),\n",
    "    \"Random Forest\": RandomForestRegressor(max_depth=25, min_samples_leaf=17, max_features=.35,\n",
    "                                           n_estimators=100, n_jobs=-1, random_state=44        \n",
    "    )\n",
    "}\n",
    "\n",
    "errors = {}\n",
    "\n",
    "for name, model in models.items():\n",
    "    errors[name] = cv_models(model, t_features_train, salary_train)"
   ]
  },
  {
   "cell_type": "code",
   "execution_count": 58,
   "metadata": {},
   "outputs": [
    {
     "data": {
      "text/plain": [
       "{'Linear Regression': 364.27216844151235,\n",
       " 'K-Nearest Neighbors': 351.31823490179653,\n",
       " 'Random Forest': 350.754789621688}"
      ]
     },
     "execution_count": 58,
     "metadata": {},
     "output_type": "execute_result"
    }
   ],
   "source": [
    "errors"
   ]
  },
  {
   "cell_type": "markdown",
   "metadata": {},
   "source": [
    "## Selecting the Best Model\n",
    "* Selecting the model with the lowest error as the \"production\" model"
   ]
  },
  {
   "cell_type": "markdown",
   "metadata": {},
   "source": [
    "As we can see from the above cell, the Random Forest model just barely edges out the K-Nearest Neighbors model for the best MSE on the 5-fold cross validation. Now it is time to make the final production model. You can find that procedure [here](./04_Deploy.ipynb)"
   ]
  },
  {
   "cell_type": "code",
   "execution_count": null,
   "metadata": {},
   "outputs": [],
   "source": []
  }
 ],
 "metadata": {
  "kernelspec": {
   "display_name": "Python 3",
   "language": "python",
   "name": "python3"
  },
  "language_info": {
   "codemirror_mode": {
    "name": "ipython",
    "version": 3
   },
   "file_extension": ".py",
   "mimetype": "text/x-python",
   "name": "python",
   "nbconvert_exporter": "python",
   "pygments_lexer": "ipython3",
   "version": "3.6.4"
  }
 },
 "nbformat": 4,
 "nbformat_minor": 2
}
