{
 "cells": [
  {
   "cell_type": "markdown",
   "metadata": {},
   "source": [
    "# Salary Predictions Based on Job Descriptions"
   ]
  },
  {
   "cell_type": "markdown",
   "metadata": {},
   "source": [
    "# Step 3: Develop"
   ]
  },
  {
   "cell_type": "code",
   "execution_count": 1,
   "metadata": {},
   "outputs": [],
   "source": [
    "import pandas as pd\n",
    "import matplotlib.pyplot as plt\n",
    "import numpy as np\n",
    "\n",
    "%matplotlib inline"
   ]
  },
  {
   "cell_type": "code",
   "execution_count": 2,
   "metadata": {},
   "outputs": [],
   "source": [
    "import sys\n",
    "sys.path.insert(0, './scripts')\n",
    "\n",
    "from helpers import load_data, mean_squared_error\n",
    "from Preprocessing import Preprocessing"
   ]
  },
  {
   "cell_type": "code",
   "execution_count": 3,
   "metadata": {},
   "outputs": [
    {
     "name": "stdout",
     "output_type": "stream",
     "text": [
      "              total        used        free      shared  buff/cache   available\r\n",
      "Mem:           5892        1899        2974         301        1018        3434\r\n",
      "Swap:          2047          74        1973\r\n"
     ]
    }
   ],
   "source": [
    "!free -m"
   ]
  },
  {
   "cell_type": "markdown",
   "metadata": {},
   "source": [
    "### Engineering features\n",
    "* Ensure data is ready for modeling (make Preprocessing.py)\n",
    "* Create any new features to enhance the model"
   ]
  },
  {
   "cell_type": "markdown",
   "metadata": {},
   "source": [
    "I wrote Preprocessing.py to do any transformations on the data to get it ready for the models __(note: include filtering columns in preprocessor)__."
   ]
  },
  {
   "cell_type": "code",
   "execution_count": 4,
   "metadata": {},
   "outputs": [
    {
     "name": "stdout",
     "output_type": "stream",
     "text": [
      "----------------------------------train shape-----------------------------------\n",
      "                                  (700000, 8)                                   \n",
      "------------------------------train's column types------------------------------\n",
      "salary                  int64\n",
      "companyId              object\n",
      "jobType                object\n",
      "degree                 object\n",
      "major                  object\n",
      "industry               object\n",
      "yearsExperience         int64\n",
      "milesFromMetropolis     int64\n",
      "dtype: object\n",
      "-----------------------------train first five rows------------------------------\n",
      "                  salary companyId  jobType       degree      major industry  \\\n",
      "jobId                                                                          \n",
      "JOB1362684437508      72     COMP7  JANITOR         NONE       NONE   HEALTH   \n",
      "JOB1362685136064     110    COMP32  MANAGER  HIGH_SCHOOL       NONE  FINANCE   \n",
      "JOB1362684910878     132     COMP7      CFO  HIGH_SCHOOL       NONE      OIL   \n",
      "JOB1362684976240      81     COMP1  MANAGER  HIGH_SCHOOL       NONE   HEALTH   \n",
      "JOB1362685230529     128     COMP6   JUNIOR    BACHELORS  CHEMISTRY      OIL   \n",
      "\n",
      "                  yearsExperience  milesFromMetropolis  \n",
      "jobId                                                   \n",
      "JOB1362684437508               17                   47  \n",
      "JOB1362685136064                6                   12  \n",
      "JOB1362684910878                5                   90  \n",
      "JOB1362684976240                7                   79  \n",
      "JOB1362685230529               13                   18  \n"
     ]
    }
   ],
   "source": [
    "path = './model_validation_data/'\n",
    "files = ['train.csv', 'test.csv']\n",
    "\n",
    "train_data = load_data(path, files[0], verbose=True)"
   ]
  },
  {
   "cell_type": "code",
   "execution_count": 5,
   "metadata": {},
   "outputs": [],
   "source": [
    "target = 'salary'\n",
    "features = [x for x in train_data.columns if x != target]\n",
    "\n",
    "train_features = train_data[features].copy()\n",
    "train_salary = train_data[target].copy()\n",
    "del train_data"
   ]
  },
  {
   "cell_type": "code",
   "execution_count": 6,
   "metadata": {},
   "outputs": [],
   "source": [
    "cols_to_filter = ['companyId']\n",
    "\n",
    "p = Preprocessing(cols_to_filter=cols_to_filter)\n",
    "\n",
    "features_transformed = p.fit_transform(train_features)"
   ]
  },
  {
   "cell_type": "code",
   "execution_count": 7,
   "metadata": {
    "scrolled": false
   },
   "outputs": [
    {
     "data": {
      "text/html": [
       "<div>\n",
       "<style scoped>\n",
       "    .dataframe tbody tr th:only-of-type {\n",
       "        vertical-align: middle;\n",
       "    }\n",
       "\n",
       "    .dataframe tbody tr th {\n",
       "        vertical-align: top;\n",
       "    }\n",
       "\n",
       "    .dataframe thead th {\n",
       "        text-align: right;\n",
       "    }\n",
       "</style>\n",
       "<table border=\"1\" class=\"dataframe\">\n",
       "  <thead>\n",
       "    <tr style=\"text-align: right;\">\n",
       "      <th></th>\n",
       "      <th>yearsExperience</th>\n",
       "      <th>milesFromMetropolis</th>\n",
       "      <th>jobType_CEO</th>\n",
       "      <th>jobType_CFO</th>\n",
       "      <th>jobType_CTO</th>\n",
       "      <th>jobType_JANITOR</th>\n",
       "      <th>jobType_JUNIOR</th>\n",
       "      <th>jobType_MANAGER</th>\n",
       "      <th>jobType_SENIOR</th>\n",
       "      <th>jobType_VICE_PRESIDENT</th>\n",
       "      <th>...</th>\n",
       "      <th>major_MATH</th>\n",
       "      <th>major_NONE</th>\n",
       "      <th>major_PHYSICS</th>\n",
       "      <th>industry_AUTO</th>\n",
       "      <th>industry_EDUCATION</th>\n",
       "      <th>industry_FINANCE</th>\n",
       "      <th>industry_HEALTH</th>\n",
       "      <th>industry_OIL</th>\n",
       "      <th>industry_SERVICE</th>\n",
       "      <th>industry_WEB</th>\n",
       "    </tr>\n",
       "    <tr>\n",
       "      <th>jobId</th>\n",
       "      <th></th>\n",
       "      <th></th>\n",
       "      <th></th>\n",
       "      <th></th>\n",
       "      <th></th>\n",
       "      <th></th>\n",
       "      <th></th>\n",
       "      <th></th>\n",
       "      <th></th>\n",
       "      <th></th>\n",
       "      <th></th>\n",
       "      <th></th>\n",
       "      <th></th>\n",
       "      <th></th>\n",
       "      <th></th>\n",
       "      <th></th>\n",
       "      <th></th>\n",
       "      <th></th>\n",
       "      <th></th>\n",
       "      <th></th>\n",
       "      <th></th>\n",
       "    </tr>\n",
       "  </thead>\n",
       "  <tbody>\n",
       "    <tr>\n",
       "      <th>JOB1362684437508</th>\n",
       "      <td>0.708333</td>\n",
       "      <td>0.474747</td>\n",
       "      <td>0</td>\n",
       "      <td>0</td>\n",
       "      <td>0</td>\n",
       "      <td>1</td>\n",
       "      <td>0</td>\n",
       "      <td>0</td>\n",
       "      <td>0</td>\n",
       "      <td>0</td>\n",
       "      <td>...</td>\n",
       "      <td>0</td>\n",
       "      <td>1</td>\n",
       "      <td>0</td>\n",
       "      <td>0</td>\n",
       "      <td>0</td>\n",
       "      <td>0</td>\n",
       "      <td>1</td>\n",
       "      <td>0</td>\n",
       "      <td>0</td>\n",
       "      <td>0</td>\n",
       "    </tr>\n",
       "    <tr>\n",
       "      <th>JOB1362685136064</th>\n",
       "      <td>0.250000</td>\n",
       "      <td>0.121212</td>\n",
       "      <td>0</td>\n",
       "      <td>0</td>\n",
       "      <td>0</td>\n",
       "      <td>0</td>\n",
       "      <td>0</td>\n",
       "      <td>1</td>\n",
       "      <td>0</td>\n",
       "      <td>0</td>\n",
       "      <td>...</td>\n",
       "      <td>0</td>\n",
       "      <td>1</td>\n",
       "      <td>0</td>\n",
       "      <td>0</td>\n",
       "      <td>0</td>\n",
       "      <td>1</td>\n",
       "      <td>0</td>\n",
       "      <td>0</td>\n",
       "      <td>0</td>\n",
       "      <td>0</td>\n",
       "    </tr>\n",
       "    <tr>\n",
       "      <th>JOB1362684910878</th>\n",
       "      <td>0.208333</td>\n",
       "      <td>0.909091</td>\n",
       "      <td>0</td>\n",
       "      <td>1</td>\n",
       "      <td>0</td>\n",
       "      <td>0</td>\n",
       "      <td>0</td>\n",
       "      <td>0</td>\n",
       "      <td>0</td>\n",
       "      <td>0</td>\n",
       "      <td>...</td>\n",
       "      <td>0</td>\n",
       "      <td>1</td>\n",
       "      <td>0</td>\n",
       "      <td>0</td>\n",
       "      <td>0</td>\n",
       "      <td>0</td>\n",
       "      <td>0</td>\n",
       "      <td>1</td>\n",
       "      <td>0</td>\n",
       "      <td>0</td>\n",
       "    </tr>\n",
       "    <tr>\n",
       "      <th>JOB1362684976240</th>\n",
       "      <td>0.291667</td>\n",
       "      <td>0.797980</td>\n",
       "      <td>0</td>\n",
       "      <td>0</td>\n",
       "      <td>0</td>\n",
       "      <td>0</td>\n",
       "      <td>0</td>\n",
       "      <td>1</td>\n",
       "      <td>0</td>\n",
       "      <td>0</td>\n",
       "      <td>...</td>\n",
       "      <td>0</td>\n",
       "      <td>1</td>\n",
       "      <td>0</td>\n",
       "      <td>0</td>\n",
       "      <td>0</td>\n",
       "      <td>0</td>\n",
       "      <td>1</td>\n",
       "      <td>0</td>\n",
       "      <td>0</td>\n",
       "      <td>0</td>\n",
       "    </tr>\n",
       "    <tr>\n",
       "      <th>JOB1362685230529</th>\n",
       "      <td>0.541667</td>\n",
       "      <td>0.181818</td>\n",
       "      <td>0</td>\n",
       "      <td>0</td>\n",
       "      <td>0</td>\n",
       "      <td>0</td>\n",
       "      <td>1</td>\n",
       "      <td>0</td>\n",
       "      <td>0</td>\n",
       "      <td>0</td>\n",
       "      <td>...</td>\n",
       "      <td>0</td>\n",
       "      <td>0</td>\n",
       "      <td>0</td>\n",
       "      <td>0</td>\n",
       "      <td>0</td>\n",
       "      <td>0</td>\n",
       "      <td>0</td>\n",
       "      <td>1</td>\n",
       "      <td>0</td>\n",
       "      <td>0</td>\n",
       "    </tr>\n",
       "  </tbody>\n",
       "</table>\n",
       "<p>5 rows × 31 columns</p>\n",
       "</div>"
      ],
      "text/plain": [
       "                  yearsExperience  milesFromMetropolis  jobType_CEO  \\\n",
       "jobId                                                                 \n",
       "JOB1362684437508         0.708333             0.474747            0   \n",
       "JOB1362685136064         0.250000             0.121212            0   \n",
       "JOB1362684910878         0.208333             0.909091            0   \n",
       "JOB1362684976240         0.291667             0.797980            0   \n",
       "JOB1362685230529         0.541667             0.181818            0   \n",
       "\n",
       "                  jobType_CFO  jobType_CTO  jobType_JANITOR  jobType_JUNIOR  \\\n",
       "jobId                                                                         \n",
       "JOB1362684437508            0            0                1               0   \n",
       "JOB1362685136064            0            0                0               0   \n",
       "JOB1362684910878            1            0                0               0   \n",
       "JOB1362684976240            0            0                0               0   \n",
       "JOB1362685230529            0            0                0               1   \n",
       "\n",
       "                  jobType_MANAGER  jobType_SENIOR  jobType_VICE_PRESIDENT  \\\n",
       "jobId                                                                       \n",
       "JOB1362684437508                0               0                       0   \n",
       "JOB1362685136064                1               0                       0   \n",
       "JOB1362684910878                0               0                       0   \n",
       "JOB1362684976240                1               0                       0   \n",
       "JOB1362685230529                0               0                       0   \n",
       "\n",
       "                  ...  major_MATH  major_NONE  major_PHYSICS  industry_AUTO  \\\n",
       "jobId             ...                                                         \n",
       "JOB1362684437508  ...           0           1              0              0   \n",
       "JOB1362685136064  ...           0           1              0              0   \n",
       "JOB1362684910878  ...           0           1              0              0   \n",
       "JOB1362684976240  ...           0           1              0              0   \n",
       "JOB1362685230529  ...           0           0              0              0   \n",
       "\n",
       "                  industry_EDUCATION  industry_FINANCE  industry_HEALTH  \\\n",
       "jobId                                                                     \n",
       "JOB1362684437508                   0                 0                1   \n",
       "JOB1362685136064                   0                 1                0   \n",
       "JOB1362684910878                   0                 0                0   \n",
       "JOB1362684976240                   0                 0                1   \n",
       "JOB1362685230529                   0                 0                0   \n",
       "\n",
       "                  industry_OIL  industry_SERVICE  industry_WEB  \n",
       "jobId                                                           \n",
       "JOB1362684437508             0                 0             0  \n",
       "JOB1362685136064             0                 0             0  \n",
       "JOB1362684910878             1                 0             0  \n",
       "JOB1362684976240             0                 0             0  \n",
       "JOB1362685230529             1                 0             0  \n",
       "\n",
       "[5 rows x 31 columns]"
      ]
     },
     "execution_count": 7,
     "metadata": {},
     "output_type": "execute_result"
    }
   ],
   "source": [
    "features_transformed.head()"
   ]
  },
  {
   "cell_type": "code",
   "execution_count": 8,
   "metadata": {},
   "outputs": [
    {
     "data": {
      "text/plain": [
       "(700000, 31)"
      ]
     },
     "execution_count": 8,
     "metadata": {},
     "output_type": "execute_result"
    }
   ],
   "source": [
    "features_transformed.shape"
   ]
  },
  {
   "cell_type": "code",
   "execution_count": 9,
   "metadata": {},
   "outputs": [
    {
     "data": {
      "text/plain": [
       "49"
      ]
     },
     "execution_count": 9,
     "metadata": {},
     "output_type": "execute_result"
    }
   ],
   "source": [
    "import gc\n",
    "gc.collect()"
   ]
  },
  {
   "cell_type": "code",
   "execution_count": 10,
   "metadata": {},
   "outputs": [
    {
     "name": "stdout",
     "output_type": "stream",
     "text": [
      "              total        used        free      shared  buff/cache   available\r\n",
      "Mem:           5892        2096        2734         301        1060        3237\r\n",
      "Swap:          2047          74        1973\r\n"
     ]
    }
   ],
   "source": [
    "!free -m"
   ]
  },
  {
   "cell_type": "markdown",
   "metadata": {},
   "source": [
    "### Creating models\n",
    "* Creating and tuning models (SGD Regressor, Random Forest Regressor, Nearest Neighbor)"
   ]
  },
  {
   "cell_type": "markdown",
   "metadata": {},
   "source": [
    "I'm going to start with tuning the __K-Nearest Neighbor (KNN)__ model. I need to figure out what the best option for 'k' will be as well as how I would like to weight these neighbors when doing the calculation. For instance, it may be fruitful to make sure instances which are far away are not as prevalent as instances which are closer. Another option I will test is treating all k-nearest instances the the same."
   ]
  },
  {
   "cell_type": "code",
   "execution_count": 17,
   "metadata": {},
   "outputs": [],
   "source": [
    "from sklearn.neighbors import KNeighborsRegressor\n",
    "from sklearn.model_selection import train_test_split\n",
    "\n",
    "\n",
    "def tune_parameters_KNN(X, y, k, weights='distance'):\n",
    "    \"\"\"Finds the MSE of Nearest Neighbor Regression on a varying number of nearest neigbors\n",
    "    Args:\n",
    "        X: DataFrame, Feature data\n",
    "        y: Series, Target data\n",
    "        k: list of ints, number of neighbors to make the regression\n",
    "        weights: string, tells the model how to weight the neighbors when calculating the regression\n",
    "        \n",
    "    Returns:\n",
    "        error: ndarray, holds MSE betweenthe predicted salary and the actual salary\n",
    "    \"\"\"\n",
    "    X_train, X_tune, y_train, y_tune = train_test_split(X, y, random_state=44, test_size=.25)\n",
    "    \n",
    "    error = np.zeros(len(k))\n",
    "    \n",
    "    for i, n_neighbors in enumerate(k):\n",
    "        knn = KNeighborsRegressor(n_neighbors=n_neighbors, weights=weights, n_jobs=-1)\n",
    "        knn.fit(X_train, y_train)\n",
    "        y_pred = knn.predict(X_tune)\n",
    "        error[i] = mean_squared_error(y_pred, y_tune)\n",
    "        \n",
    "        del knn\n",
    "        \n",
    "        print(f\"Number of Neighbors: {n_neighbors}\")\n",
    "        print(f\"Error: {error[i]}\")\n",
    "    \n",
    "    return error\n",
    "        "
   ]
  },
  {
   "cell_type": "code",
   "execution_count": 16,
   "metadata": {},
   "outputs": [
    {
     "name": "stdout",
     "output_type": "stream",
     "text": [
      "Number of Neighbors: 2\n",
      "Error: 571.6184963156958\n",
      "Number of Neighbors: 4\n",
      "Error: 502.4679588755955\n",
      "Number of Neighbors: 6\n",
      "Error: 477.6507862760483\n",
      "Number of Neighbors: 8\n",
      "Error: 464.60752218291907\n",
      "Number of Neighbors: 10\n",
      "Error: 456.7079946327381\n"
     ]
    }
   ],
   "source": [
    "k_dis = [x for x in range(2, 11, 2)]\n",
    "\n",
    "# Distance weighting of neighbors error\n",
    "dis_error = tune_parameters_KNN(features_transformed, train_salary, k)"
   ]
  },
  {
   "cell_type": "code",
   "execution_count": 19,
   "metadata": {},
   "outputs": [
    {
     "name": "stdout",
     "output_type": "stream",
     "text": [
      "Number of Neighbors: 6\n",
      "Error: 417.3229846031746\n",
      "Number of Neighbors: 8\n",
      "Error: 402.45752464285715\n",
      "Number of Neighbors: 10\n",
      "Error: 394.0170414285714\n",
      "Number of Neighbors: 12\n",
      "Error: 388.4885171825397\n",
      "Number of Neighbors: 14\n",
      "Error: 384.4900773469387\n",
      "Number of Neighbors: 16\n",
      "Error: 381.81769357142855\n",
      "Number of Neighbors: 18\n",
      "Error: 379.65877705467375\n",
      "Number of Neighbors: 20\n",
      "Error: 378.32896221428575\n"
     ]
    }
   ],
   "source": [
    "k_uw = [x for x in range(6, 21, 2)]\n",
    "\n",
    "# Uniform weighting of neighbors error\n",
    "uw_error = tune_parameters_KNN(features_transformed, train_salary, k_uw, weights='uniform')"
   ]
  },
  {
   "cell_type": "code",
   "execution_count": 24,
   "metadata": {},
   "outputs": [
    {
     "name": "stdout",
     "output_type": "stream",
     "text": [
      "Number of Neighbors: 22\n",
      "Error: 377.309125218418\n",
      "Number of Neighbors: 24\n",
      "Error: 376.58834697420633\n",
      "Number of Neighbors: 26\n",
      "Error: 375.97465844463227\n",
      "Number of Neighbors: 28\n",
      "Error: 375.7355246501458\n",
      "Number of Neighbors: 30\n",
      "Error: 375.5971672126984\n"
     ]
    }
   ],
   "source": [
    "k_uw_2 = [x for x in range(22, 31, 2)]\n",
    "\n",
    "# Uniform weighting of neighbors error\n",
    "uw_error_2 = tune_parameters_KNN(features_transformed, train_salary, k_uw_2, weights='uniform')"
   ]
  },
  {
   "cell_type": "code",
   "execution_count": 22,
   "metadata": {},
   "outputs": [
    {
     "data": {
      "text/plain": [
       "<matplotlib.legend.Legend at 0x7f12c50462e8>"
      ]
     },
     "execution_count": 22,
     "metadata": {},
     "output_type": "execute_result"
    },
    {
     "data": {
      "image/png": "[encoded data removed]",
      "text/plain": [
       "<Figure size 432x288 with 1 Axes>"
      ]
     },
     "metadata": {
      "needs_background": "light"
     },
     "output_type": "display_data"
    }
   ],
   "source": [
    "k_dis = [x for x in range(2, 11, 2)]\n",
    "k_uw = [x for x in range(6, 21, 2)]\n",
    "\n",
    "plt.plot(k_dis, dis_error, label='Distance weighted neighbors')\n",
    "plt.plot(k_uw, uw_error, label='Uniform weighted neighbors')\n",
    "plt.xlabel('Number of neighbors')\n",
    "plt.ylabel('Mean Squared Error')\n",
    "plt.legend()"
   ]
  },
  {
   "cell_type": "markdown",
   "metadata": {},
   "source": []
  },
  {
   "cell_type": "markdown",
   "metadata": {},
   "source": [
    "Now, I'll start tuning for the __Random Forest (RF)__ regression model. I'll tune the *max_depth*, *max_features*, and *min_samples_leaf* features seperately with a smaller number of estimators. Then I will give a fine tune with a grid search of hyperparameter values closer to the best values for the small number of estimators. Note that I will be using oob score as a kind of cross validation when building the forest to quantify the accuracy of each model. This cross validation will output the average $R^2$ score on the data not used in each estimator. The higher the oob score, the better the parameters are for the model. "
   ]
  },
  {
   "cell_type": "code",
   "execution_count": 11,
   "metadata": {},
   "outputs": [
    {
     "name": "stdout",
     "output_type": "stream",
     "text": [
      "Baseline Accuracy: 0.6956883365746303\n"
     ]
    }
   ],
   "source": [
    "# baseline model so we know how much better changing the hyperparameters makes the model\n",
    "from sklearn.ensemble import RandomForestRegressor\n",
    "\n",
    "# All of these parameters will remain the same when I change the hyperparameters\n",
    "rf = RandomForestRegressor(oob_score=True, random_state=44, n_estimators=50, criterion='mse')\n",
    "\n",
    "rf.fit(features_transformed, train_salary)\n",
    "print(f\"Baseline Accuracy: {rf.oob_score_}\")"
   ]
  },
  {
   "cell_type": "code",
   "execution_count": 25,
   "metadata": {},
   "outputs": [
    {
     "name": "stdout",
     "output_type": "stream",
     "text": [
      "Maximum depth: 1\n",
      "Score: 0.19471618400414492\n",
      "Maximum depth: 5\n",
      "Score: 0.5206619470860774\n",
      "Maximum depth: 10\n",
      "Score: 0.6852411290175356\n",
      "Maximum depth: 15\n",
      "Score: 0.7419815735343134\n",
      "Maximum depth: 16\n",
      "Score: 0.7452164873036183\n",
      "Maximum depth: 17\n",
      "Score: 0.7462248530995752\n",
      "Maximum depth: 18\n",
      "Score: 0.7450382927497465\n",
      "Maximum depth: 19\n",
      "Score: 0.7420751337854656\n",
      "Maximum depth: 20\n",
      "Score: 0.737814084520567\n",
      "Maximum depth: 25\n",
      "Score: 0.7106673805199004\n"
     ]
    },
    {
     "data": {
      "text/plain": [
       "<matplotlib.axes._subplots.AxesSubplot at 0x7fbee4cf2198>"
      ]
     },
     "execution_count": 25,
     "metadata": {},
     "output_type": "execute_result"
    },
    {
     "data": {
      "image/png": "[encoded data removed]",
      "text/plain": [
       "<Figure size 432x288 with 1 Axes>"
      ]
     },
     "metadata": {
      "needs_background": "light"
     },
     "output_type": "display_data"
    }
   ],
   "source": [
    "from sklearn.ensemble import RandomForestRegressor\n",
    "from sklearn.model_selection import train_test_split\n",
    "\n",
    "max_depths = [1, 5, 10, 15, 16, 17, 18, 19, 20, 25]\n",
    "\n",
    "scores = np.zeros(len(max_depths))\n",
    "    \n",
    "for i, max_depth in enumerate(max_depths):\n",
    "    rf = RandomForestRegressor(max_depth=max_depth, n_estimators=50,\n",
    "                                min_samples_leaf=1, max_features='auto',\n",
    "                                oob_score=True, n_jobs=-1, random_state=44,\n",
    "                                criterion='mse'\n",
    "                              )\n",
    "        \n",
    "    rf.fit(features_transformed, train_salary)\n",
    "        \n",
    "    scores[i] = rf.oob_score_\n",
    "    del rf\n",
    "    \n",
    "    print(f\"Maximum depth: {max_depth}\")\n",
    "    print(f\"Score: {scores[i]}\")\n",
    "\n",
    "pd.Series(scores, index=max_depths).plot()"
   ]
  },
  {
   "cell_type": "code",
   "execution_count": 26,
   "metadata": {},
   "outputs": [
    {
     "name": "stdout",
     "output_type": "stream",
     "text": [
      "Maximum Accuracy occurs when max_depth is set to 17\n"
     ]
    }
   ],
   "source": [
    "results = pd.Series(scores, index=max_depths)\n",
    "\n",
    "print(f\"Maximum Accuracy occurs when max_depth is set to {results.idxmax()}\")"
   ]
  },
  {
   "cell_type": "markdown",
   "metadata": {},
   "source": [
    "Note: I don't have enough computing power to show that this trend does continue, but it is highly unlikely to ever go back up due to overfitting."
   ]
  },
  {
   "cell_type": "code",
   "execution_count": 28,
   "metadata": {},
   "outputs": [
    {
     "name": "stdout",
     "output_type": "stream",
     "text": [
      "Samples: 8\n",
      "Oob score: 0.7473800758878565\n",
      "Samples: 9\n",
      "Oob score: 0.7485985644433109\n",
      "Samples: 10\n",
      "Oob score: 0.7494918259266532\n",
      "Samples: 15\n",
      "Oob score: 0.751912859131219\n",
      "Samples: 20\n",
      "Oob score: 0.7526958439832085\n",
      "Samples: 25\n",
      "Oob score: 0.7528428518084355\n",
      "Samples: 30\n",
      "Oob score: 0.7525993930074464\n",
      "Samples: 35\n",
      "Oob score: 0.7522223114928789\n"
     ]
    }
   ],
   "source": [
    "from sklearn.ensemble import RandomForestRegressor\n",
    "from sklearn.model_selection import train_test_split\n",
    "\n",
    "min_samples_leaf = [8, 9, 10, 15, 20, 25, 30, 35]\n",
    "leaf_scores_mse = np.zeros(len(min_samples_leaf))\n",
    "\n",
    "for i, sample in enumerate(min_samples_leaf):\n",
    "\n",
    "    rf = RandomForestRegressor(n_estimators=50, criterion='mse',\n",
    "                               min_samples_leaf=sample, max_features='auto',\n",
    "                               oob_score=True, n_jobs=-1, random_state=44\n",
    "                              )\n",
    "    rf.fit(features_transformed, train_salary)\n",
    "    \n",
    "    leaf_scores_mse[i] = rf.oob_score_\n",
    "    del rf\n",
    "    \n",
    "    print(f\"Samples: {sample}\")\n",
    "    print(f\"Oob score: {leaf_scores_mse[i]}\")"
   ]
  },
  {
   "cell_type": "code",
   "execution_count": 32,
   "metadata": {},
   "outputs": [
    {
     "name": "stdout",
     "output_type": "stream",
     "text": [
      "The maximum accuracy occurs when min_samples_leaf is set to 25\n"
     ]
    },
    {
     "data": {
      "text/plain": [
       "<matplotlib.axes._subplots.AxesSubplot at 0x7fbee44d7898>"
      ]
     },
     "execution_count": 32,
     "metadata": {},
     "output_type": "execute_result"
    },
    {
     "data": {
      "image/png": "[encoded data removed]",
      "text/plain": [
       "<Figure size 432x288 with 1 Axes>"
      ]
     },
     "metadata": {
      "needs_background": "light"
     },
     "output_type": "display_data"
    }
   ],
   "source": [
    "leaf_result_mse = pd.Series(leaf_scores_mse, index=min_samples_leaf)\n",
    "print(\"The maximum accuracy occurs when min_samples_leaf is\"\n",
    "      f\" set to {leaf_result_mse.idxmax()}\"\n",
    "     )\n",
    "\n",
    "leaf_result_mse.plot()"
   ]
  },
  {
   "cell_type": "code",
   "execution_count": 12,
   "metadata": {},
   "outputs": [
    {
     "name": "stdout",
     "output_type": "stream",
     "text": [
      "Method: auto\n",
      "Oob score: 0.6956883365746303\n",
      "Method: sqrt\n",
      "Oob score: 0.6900848567252967\n",
      "Method: log2\n",
      "Oob score: 0.6896142719125476\n",
      "Method: None\n",
      "Oob score: 0.6956883365746303\n",
      "Method: 0.1\n",
      "Oob score: 0.6889495218409942\n",
      "Method: 0.2\n",
      "Oob score: 0.6907517319998396\n",
      "Method: 0.3\n",
      "Oob score: 0.6924156643854461\n",
      "Method: 0.4\n",
      "Oob score: 0.6941909107499129\n",
      "Method: 0.5\n",
      "Oob score: 0.6950505845332222\n",
      "Method: 0.6\n",
      "Oob score: 0.6958451872253962\n",
      "Method: 0.7\n",
      "Oob score: 0.6963451560663227\n",
      "Method: 0.8\n",
      "Oob score: 0.6962607023710454\n",
      "Method: 0.9\n",
      "Oob score: 0.6964087432739166\n"
     ]
    }
   ],
   "source": [
    "from sklearn.ensemble import RandomForestRegressor\n",
    "\n",
    "max_features = ['auto', 'sqrt', 'log2', None, .1, .2, .3, .4, .5, .6, .7, .8, .9]\n",
    "max_features_score_mse = np.zeros(len(max_features))\n",
    "\n",
    "for i, max_feature in enumerate(max_features):\n",
    "\n",
    "    rf = RandomForestRegressor(n_estimators=50,criterion='mse',\n",
    "                               min_samples_leaf=1, max_features=max_feature,\n",
    "                               oob_score=True, n_jobs=-1, random_state=44\n",
    "                              )\n",
    "    rf.fit(features_transformed, train_salary)\n",
    "    \n",
    "    max_features_score_mse[i] = rf.oob_score_\n",
    "    del rf\n",
    "    \n",
    "    print(f\"Method: {max_feature}\")\n",
    "    print(f\"Oob score: {max_features_score_mse[i]}\")"
   ]
  },
  {
   "cell_type": "code",
   "execution_count": 20,
   "metadata": {},
   "outputs": [
    {
     "name": "stdout",
     "output_type": "stream",
     "text": [
      "The maximum accuracy occurs when max_features is set to 0.9\n"
     ]
    },
    {
     "data": {
      "text/plain": [
       "Text(0.5, 1.0, 'Maximum Features Allowed Accuracies')"
      ]
     },
     "execution_count": 20,
     "metadata": {},
     "output_type": "execute_result"
    },
    {
     "data": {
      "image/png": "[encoded data removed]",
      "text/plain": [
       "<Figure size 432x288 with 1 Axes>"
      ]
     },
     "metadata": {
      "needs_background": "light"
     },
     "output_type": "display_data"
    }
   ],
   "source": [
    "max_features_result_mse = pd.Series(max_features_score_mse, index=max_features)\n",
    "print(\"The maximum accuracy occurs when max_features is\"\n",
    "      f\" set to {max_features_result_mse.idxmax()}\"\n",
    "     )\n",
    "ax = max_features_result_mse.plot.bar(ylim=(.6875,.7))\n",
    "ax.set_xlabel('Method')\n",
    "ax.set_ylabel('Oob Score')\n",
    "ax.set_title('Maximum Features Allowed Accuracies')"
   ]
  },
  {
   "cell_type": "code",
   "execution_count": 11,
   "metadata": {},
   "outputs": [
    {
     "name": "stderr",
     "output_type": "stream",
     "text": [
      "/home/kyle/DSDJ/Module4/salary-predictions/venv/lib/python3.6/site-packages/sklearn/ensemble/forest.py:737: UserWarning: Some inputs do not have OOB scores. This probably means too few trees were used to compute any reliable oob estimates.\n",
      "  warn(\"Some inputs do not have OOB scores. \"\n"
     ]
    },
    {
     "name": "stdout",
     "output_type": "stream",
     "text": [
      "Number of estimators: 5\n",
      "Oob score: -0.3771210380993235\n"
     ]
    },
    {
     "name": "stderr",
     "output_type": "stream",
     "text": [
      "/home/kyle/DSDJ/Module4/salary-predictions/venv/lib/python3.6/site-packages/sklearn/ensemble/forest.py:737: UserWarning: Some inputs do not have OOB scores. This probably means too few trees were used to compute any reliable oob estimates.\n",
      "  warn(\"Some inputs do not have OOB scores. \"\n"
     ]
    },
    {
     "name": "stdout",
     "output_type": "stream",
     "text": [
      "Number of estimators: 10\n",
      "Oob score: 0.5458731025204315\n"
     ]
    },
    {
     "name": "stderr",
     "output_type": "stream",
     "text": [
      "/home/kyle/DSDJ/Module4/salary-predictions/venv/lib/python3.6/site-packages/sklearn/ensemble/forest.py:737: UserWarning: Some inputs do not have OOB scores. This probably means too few trees were used to compute any reliable oob estimates.\n",
      "  warn(\"Some inputs do not have OOB scores. \"\n"
     ]
    },
    {
     "name": "stdout",
     "output_type": "stream",
     "text": [
      "Number of estimators: 15\n",
      "Oob score: 0.6567710652836943\n"
     ]
    },
    {
     "name": "stderr",
     "output_type": "stream",
     "text": [
      "/home/kyle/DSDJ/Module4/salary-predictions/venv/lib/python3.6/site-packages/sklearn/ensemble/forest.py:737: UserWarning: Some inputs do not have OOB scores. This probably means too few trees were used to compute any reliable oob estimates.\n",
      "  warn(\"Some inputs do not have OOB scores. \"\n"
     ]
    },
    {
     "name": "stdout",
     "output_type": "stream",
     "text": [
      "Number of estimators: 25\n",
      "Oob score: 0.6838828431076451\n",
      "Number of estimators: 35\n",
      "Oob score: 0.6908381117375268\n",
      "Number of estimators: 50\n",
      "Oob score: 0.6956883365746303\n",
      "Number of estimators: 75\n",
      "Oob score: 0.6993088615389236\n"
     ]
    }
   ],
   "source": [
    "from sklearn.ensemble import RandomForestRegressor\n",
    "n_estimators = [5, 10, 15, 25, 35, 50, 75]\n",
    "\n",
    "estimator_scores = np.zeros(len(n_estimators))\n",
    "\n",
    "for i, n in enumerate(n_estimators):\n",
    "    rf = RandomForestRegressor(n_estimators=n, criterion='mse',\n",
    "                                min_samples_leaf=1, max_features='auto',\n",
    "                                oob_score=True, n_jobs=-1, random_state=44\n",
    "                               )\n",
    "    \n",
    "    rf.fit(features_transformed, train_salary)\n",
    "    estimator_scores[i] = rf.oob_score_\n",
    "    \n",
    "    del rf\n",
    "    print(f\"Number of estimators: {n}\")\n",
    "    print(f\"Oob score: {estimator_scores[i]}\")"
   ]
  },
  {
   "cell_type": "code",
   "execution_count": 14,
   "metadata": {},
   "outputs": [
    {
     "name": "stdout",
     "output_type": "stream",
     "text": [
      "The maximum accuracy occurs when n_estimators is set to 75\n"
     ]
    },
    {
     "data": {
      "image/png": "[encoded data removed]",
      "text/plain": [
       "<Figure size 432x288 with 1 Axes>"
      ]
     },
     "metadata": {
      "needs_background": "light"
     },
     "output_type": "display_data"
    }
   ],
   "source": [
    "n_estimators_result = pd.Series(estimator_scores, index=n_estimators)\n",
    "\n",
    "ax = n_estimators_result.iloc[1:].plot()\n",
    "ax.set_xlabel('n_estimators')\n",
    "ax.set_ylabel('Oob Score')\n",
    "ax.set_title('Number of Estimators Accuracies')\n",
    "\n",
    "print(\"The maximum accuracy occurs when n_estimators is\"\n",
    "      f\" set to {n_estimators_result.idxmax()}\"\n",
    "     )"
   ]
  },
  {
   "cell_type": "markdown",
   "metadata": {},
   "source": [
    "In a perfect world where I had unlimited computing power and infinite time, I would tune keep increasing n_estimators for as long as my patience would allow (probably around n_estimators=10000) to squeeze out that last thousandth of a percent out of the model. But, I have neither time nor computing power on my hand, so I will be using n_estimators=35 and forgo the extra couple of percentage points of accuracy increasing the estimators will create. This will allow my model to still have a high accuracy while also not limiting my time to actually train the models. \n",
    "\n",
    "In the future, I want to try tuning n_estimators first. Then I will tune the remaining hyperparameters using the n_estimators value at which accuracy begins to plateau. This will allow the tuning process to run quicker instead of taking up almost an entire day. After the rest of the hyperparameters are tuned, then I can increase the number of estimators for the final model with no adverse affects."
   ]
  },
  {
   "cell_type": "markdown",
   "metadata": {},
   "source": [
    "I will now begin tuning the __Stochastic Gradient Descent (SGD)__ regression model."
   ]
  },
  {
   "cell_type": "markdown",
   "metadata": {},
   "source": [
    "### ---- 9 Test models ----\n",
    "* Doing a 5-fold cross validation on models and measuring MSE"
   ]
  },
  {
   "cell_type": "markdown",
   "metadata": {},
   "source": [
    "### ---- 10 Select best model  ----\n",
    "* Selecting the model with the lowest error as the \"production\" model"
   ]
  },
  {
   "cell_type": "code",
   "execution_count": null,
   "metadata": {},
   "outputs": [],
   "source": []
  }
 ],
 "metadata": {
  "kernelspec": {
   "display_name": "Python 3",
   "language": "python",
   "name": "python3"
  },
  "language_info": {
   "codemirror_mode": {
    "name": "ipython",
    "version": 3
   },
   "file_extension": ".py",
   "mimetype": "text/x-python",
   "name": "python",
   "nbconvert_exporter": "python",
   "pygments_lexer": "ipython3",
   "version": "3.6.4"
  }
 },
 "nbformat": 4,
 "nbformat_minor": 2
}
