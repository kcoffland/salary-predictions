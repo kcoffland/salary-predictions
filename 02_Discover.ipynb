{
 "cells": [
  {
   "cell_type": "markdown",
   "metadata": {},
   "source": [
    "# Salary Predictions Based on Job Descriptions"
   ]
  },
  {
   "cell_type": "code",
   "execution_count": 1,
   "metadata": {},
   "outputs": [],
   "source": [
    "import pandas as pd\n",
    "import matplotlib.pyplot as plt\n",
    "\n",
    "%matplotlib inline"
   ]
  },
  {
   "cell_type": "code",
   "execution_count": 2,
   "metadata": {},
   "outputs": [],
   "source": [
    "import sys\n",
    "sys.path.insert(0, './scripts')\n",
    "from helpers import load_data, mean_squared_error\n",
    "from NaiveModel import NaiveModel"
   ]
  },
  {
   "cell_type": "markdown",
   "metadata": {},
   "source": [
    "### Obtaining the Data"
   ]
  },
  {
   "cell_type": "code",
   "execution_count": 3,
   "metadata": {},
   "outputs": [
    {
     "name": "stdout",
     "output_type": "stream",
     "text": [
      "------------------------------train_features shape------------------------------\n",
      "                                  (1000000, 7)                                  \n",
      "-------------------------train_features's column types--------------------------\n",
      "companyId              object\n",
      "jobType                object\n",
      "degree                 object\n",
      "major                  object\n",
      "industry               object\n",
      "yearsExperience         int64\n",
      "milesFromMetropolis     int64\n",
      "dtype: object\n",
      "-------------------------train_features first five rows-------------------------\n",
      "                 companyId         jobType       degree      major industry  \\\n",
      "jobId                                                                         \n",
      "JOB1362684407687    COMP37             CFO      MASTERS       MATH   HEALTH   \n",
      "JOB1362684407688    COMP19             CEO  HIGH_SCHOOL       NONE      WEB   \n",
      "JOB1362684407689    COMP52  VICE_PRESIDENT     DOCTORAL    PHYSICS   HEALTH   \n",
      "JOB1362684407690    COMP38         MANAGER     DOCTORAL  CHEMISTRY     AUTO   \n",
      "JOB1362684407691     COMP7  VICE_PRESIDENT    BACHELORS    PHYSICS  FINANCE   \n",
      "\n",
      "                  yearsExperience  milesFromMetropolis  \n",
      "jobId                                                   \n",
      "JOB1362684407687               10                   83  \n",
      "JOB1362684407688                3                   73  \n",
      "JOB1362684407689               10                   38  \n",
      "JOB1362684407690                8                   17  \n",
      "JOB1362684407691                8                   16  \n"
     ]
    }
   ],
   "source": [
    "#load the data into a Pandas dataframe\n",
    "path = './raw_data/'\n",
    "files = ['train_features.csv', 'train_salaries.csv']\n",
    "\n",
    "train_features = load_data(path, files[0], verbose=True)"
   ]
  },
  {
   "cell_type": "code",
   "execution_count": 4,
   "metadata": {},
   "outputs": [
    {
     "name": "stdout",
     "output_type": "stream",
     "text": [
      "------------------------------train_salaries shape------------------------------\n",
      "                                  (1000000, 1)                                  \n",
      "-------------------------train_salaries's column types--------------------------\n",
      "salary    int64\n",
      "dtype: object\n",
      "-------------------------train_salaries first five rows-------------------------\n",
      "                  salary\n",
      "jobId                   \n",
      "JOB1362684407687     130\n",
      "JOB1362684407688     101\n",
      "JOB1362684407689     137\n",
      "JOB1362684407690     142\n",
      "JOB1362684407691     163\n"
     ]
    }
   ],
   "source": [
    "train_salaries = load_data(path, files[1], verbose=True)"
   ]
  },
  {
   "cell_type": "markdown",
   "metadata": {},
   "source": [
    "The features and target variable have the same number of rows which is a good sign that there won't be missing data."
   ]
  },
  {
   "cell_type": "code",
   "execution_count": 5,
   "metadata": {},
   "outputs": [
    {
     "data": {
      "text/plain": [
       "(1000000, 8)"
      ]
     },
     "execution_count": 5,
     "metadata": {},
     "output_type": "execute_result"
    }
   ],
   "source": [
    "train_merged = train_salaries.merge(train_features, right_on = 'jobId', left_on = 'jobId')\n",
    "train_merged.shape"
   ]
  },
  {
   "cell_type": "markdown",
   "metadata": {},
   "source": [
    "The shape is retained during the merge, so there was a salary for every job posting."
   ]
  },
  {
   "cell_type": "code",
   "execution_count": 6,
   "metadata": {},
   "outputs": [
    {
     "data": {
      "text/html": [
       "<div>\n",
       "<style scoped>\n",
       "    .dataframe tbody tr th:only-of-type {\n",
       "        vertical-align: middle;\n",
       "    }\n",
       "\n",
       "    .dataframe tbody tr th {\n",
       "        vertical-align: top;\n",
       "    }\n",
       "\n",
       "    .dataframe thead th {\n",
       "        text-align: right;\n",
       "    }\n",
       "</style>\n",
       "<table border=\"1\" class=\"dataframe\">\n",
       "  <thead>\n",
       "    <tr style=\"text-align: right;\">\n",
       "      <th></th>\n",
       "      <th>salary</th>\n",
       "      <th>companyId</th>\n",
       "      <th>jobType</th>\n",
       "      <th>degree</th>\n",
       "      <th>major</th>\n",
       "      <th>industry</th>\n",
       "      <th>yearsExperience</th>\n",
       "      <th>milesFromMetropolis</th>\n",
       "    </tr>\n",
       "    <tr>\n",
       "      <th>jobId</th>\n",
       "      <th></th>\n",
       "      <th></th>\n",
       "      <th></th>\n",
       "      <th></th>\n",
       "      <th></th>\n",
       "      <th></th>\n",
       "      <th></th>\n",
       "      <th></th>\n",
       "    </tr>\n",
       "  </thead>\n",
       "  <tbody>\n",
       "    <tr>\n",
       "      <th>JOB1362684407687</th>\n",
       "      <td>130</td>\n",
       "      <td>COMP37</td>\n",
       "      <td>CFO</td>\n",
       "      <td>MASTERS</td>\n",
       "      <td>MATH</td>\n",
       "      <td>HEALTH</td>\n",
       "      <td>10</td>\n",
       "      <td>83</td>\n",
       "    </tr>\n",
       "    <tr>\n",
       "      <th>JOB1362684407688</th>\n",
       "      <td>101</td>\n",
       "      <td>COMP19</td>\n",
       "      <td>CEO</td>\n",
       "      <td>HIGH_SCHOOL</td>\n",
       "      <td>NONE</td>\n",
       "      <td>WEB</td>\n",
       "      <td>3</td>\n",
       "      <td>73</td>\n",
       "    </tr>\n",
       "    <tr>\n",
       "      <th>JOB1362684407689</th>\n",
       "      <td>137</td>\n",
       "      <td>COMP52</td>\n",
       "      <td>VICE_PRESIDENT</td>\n",
       "      <td>DOCTORAL</td>\n",
       "      <td>PHYSICS</td>\n",
       "      <td>HEALTH</td>\n",
       "      <td>10</td>\n",
       "      <td>38</td>\n",
       "    </tr>\n",
       "    <tr>\n",
       "      <th>JOB1362684407690</th>\n",
       "      <td>142</td>\n",
       "      <td>COMP38</td>\n",
       "      <td>MANAGER</td>\n",
       "      <td>DOCTORAL</td>\n",
       "      <td>CHEMISTRY</td>\n",
       "      <td>AUTO</td>\n",
       "      <td>8</td>\n",
       "      <td>17</td>\n",
       "    </tr>\n",
       "    <tr>\n",
       "      <th>JOB1362684407691</th>\n",
       "      <td>163</td>\n",
       "      <td>COMP7</td>\n",
       "      <td>VICE_PRESIDENT</td>\n",
       "      <td>BACHELORS</td>\n",
       "      <td>PHYSICS</td>\n",
       "      <td>FINANCE</td>\n",
       "      <td>8</td>\n",
       "      <td>16</td>\n",
       "    </tr>\n",
       "  </tbody>\n",
       "</table>\n",
       "</div>"
      ],
      "text/plain": [
       "                  salary companyId         jobType       degree      major  \\\n",
       "jobId                                                                        \n",
       "JOB1362684407687     130    COMP37             CFO      MASTERS       MATH   \n",
       "JOB1362684407688     101    COMP19             CEO  HIGH_SCHOOL       NONE   \n",
       "JOB1362684407689     137    COMP52  VICE_PRESIDENT     DOCTORAL    PHYSICS   \n",
       "JOB1362684407690     142    COMP38         MANAGER     DOCTORAL  CHEMISTRY   \n",
       "JOB1362684407691     163     COMP7  VICE_PRESIDENT    BACHELORS    PHYSICS   \n",
       "\n",
       "                 industry  yearsExperience  milesFromMetropolis  \n",
       "jobId                                                            \n",
       "JOB1362684407687   HEALTH               10                   83  \n",
       "JOB1362684407688      WEB                3                   73  \n",
       "JOB1362684407689   HEALTH               10                   38  \n",
       "JOB1362684407690     AUTO                8                   17  \n",
       "JOB1362684407691  FINANCE                8                   16  "
      ]
     },
     "execution_count": 6,
     "metadata": {},
     "output_type": "execute_result"
    }
   ],
   "source": [
    "train_merged.head()"
   ]
  },
  {
   "cell_type": "markdown",
   "metadata": {},
   "source": [
    "### Cleaning the Data"
   ]
  },
  {
   "cell_type": "code",
   "execution_count": 7,
   "metadata": {},
   "outputs": [],
   "source": [
    "# Ensuring the primary key is unique \n",
    "assert(train_merged.index.duplicated().sum() == 0)"
   ]
  },
  {
   "cell_type": "markdown",
   "metadata": {},
   "source": [
    "All of the *jobId*s are in fact unique, so we can treat each row as a completely separate instance. If there were repeats, then I would further investigate the repeated ids to see if they all the information stayed consistent between the multiple postings and proceeded from there. "
   ]
  },
  {
   "cell_type": "code",
   "execution_count": 8,
   "metadata": {},
   "outputs": [
    {
     "data": {
      "text/plain": [
       "salary                 0\n",
       "companyId              0\n",
       "jobType                0\n",
       "degree                 0\n",
       "major                  0\n",
       "industry               0\n",
       "yearsExperience        0\n",
       "milesFromMetropolis    0\n",
       "dtype: int64"
      ]
     },
     "execution_count": 8,
     "metadata": {},
     "output_type": "execute_result"
    }
   ],
   "source": [
    "train_merged.isnull().sum()"
   ]
  },
  {
   "cell_type": "markdown",
   "metadata": {},
   "source": [
    "There are no missing values in the data set as is. For the continuous variables *yearsExperience* and *milesFromMetropolis* I would have replaced the null values with the mean or median of the respective data depending on the actual distribution. For the categorical columns, I would have most likely had to remove the rows or columns containing null values a long as it was not a significant amount of loss.\n",
    "\n",
    "I will note that there is a common value of *NONE* in the *major* column. This is not meant to specify the python \"None\" object. Rather, it is specifying that there is do specific major requirement for that job posting."
   ]
  },
  {
   "cell_type": "markdown",
   "metadata": {},
   "source": [
    "### Exploring the Data"
   ]
  },
  {
   "cell_type": "code",
   "execution_count": 9,
   "metadata": {},
   "outputs": [
    {
     "data": {
      "text/plain": [
       "Text(0.5, 1.0, 'Histogram of Salaries')"
      ]
     },
     "execution_count": 9,
     "metadata": {},
     "output_type": "execute_result"
    },
    {
     "data": {
      "image/png": "[encoded data removed]",
      "text/plain": [
       "<Figure size 432x288 with 1 Axes>"
      ]
     },
     "metadata": {
      "needs_background": "light"
     },
     "output_type": "display_data"
    }
   ],
   "source": [
    "fig, ax = plt.subplots(1)\n",
    "train_merged.salary.hist(ax=ax)\n",
    "ax.set_xlabel('Salary ($1K)')\n",
    "ax.set_ylabel('Frequency')\n",
    "ax.set_title('Histogram of Salaries')"
   ]
  },
  {
   "cell_type": "markdown",
   "metadata": {},
   "source": [
    "The distribution of salaries is fairly normal with a slight right skew which is to be expected when there is a lower bound and no upper bound. "
   ]
  },
  {
   "cell_type": "code",
   "execution_count": 10,
   "metadata": {},
   "outputs": [
    {
     "name": "stdout",
     "output_type": "stream",
     "text": [
      "['companyId', 'jobType', 'degree', 'major', 'industry']\n"
     ]
    }
   ],
   "source": [
    "categorical_cols = [x for x in train_merged.columns if train_merged[x].dtype == object]\n",
    "print(categorical_cols)"
   ]
  },
  {
   "cell_type": "code",
   "execution_count": 11,
   "metadata": {},
   "outputs": [
    {
     "data": {
      "text/plain": [
       "companyId    63\n",
       "jobType       8\n",
       "degree        5\n",
       "major         9\n",
       "industry      7\n",
       "dtype: int64"
      ]
     },
     "execution_count": 11,
     "metadata": {},
     "output_type": "execute_result"
    }
   ],
   "source": [
    "train_merged[categorical_cols].nunique()"
   ]
  },
  {
   "cell_type": "markdown",
   "metadata": {},
   "source": [
    "None of the columns seem to have a very high cardinality. The most unique values by far is *companyId* which has only 0.063% of the data as unique. This would give each company about 15000 data points on average. Even if it has a higher cardinality than the rest, the information could still give useful insights into competitor strategies. I will do the next basic exploration excluding *companyId*, but it will still be used in the final model."
   ]
  },
  {
   "cell_type": "code",
   "execution_count": 12,
   "metadata": {},
   "outputs": [],
   "source": [
    "categorical_cols.remove('companyId')"
   ]
  },
  {
   "cell_type": "code",
   "execution_count": 40,
   "metadata": {},
   "outputs": [
    {
     "name": "stdout",
     "output_type": "stream",
     "text": [
      "Average salary broken up by each categorical variable\n"
     ]
    },
    {
     "data": {
      "image/png": "[encoded data removed]",
      "text/plain": [
       "<Figure size 1080x864 with 4 Axes>"
      ]
     },
     "metadata": {
      "needs_background": "light"
     },
     "output_type": "display_data"
    }
   ],
   "source": [
    "print('Average salary broken up by each categorical variable')\n",
    "\n",
    "n = len(categorical_cols)\n",
    "fig, ax = plt.subplots(round(n/2), 2, figsize=(15, 12), sharey='row')\n",
    "\n",
    "row = 0\n",
    "col = 0\n",
    "count = 0\n",
    "\n",
    "for row in range(round(n/2)):\n",
    "    for col in range(2):\n",
    "        mean = train_merged.groupby(categorical_cols[count])['salary'].mean()\n",
    "        plt.sca(ax[row][col])\n",
    "        plt.bar(height=mean, x=mean.index)\n",
    "        plt.text(s=f'Standard Deviation: {mean.std():.2f}', x=.55, y=.95, transform=ax[row][col].transAxes)\n",
    "        plt.xticks(rotation=40)\n",
    "        plt.subplots_adjust(bottom=.05, top=.99)\n",
    "        plt.title(categorical_cols[count])\n",
    "        count += 1"
   ]
  },
  {
   "cell_type": "markdown",
   "metadata": {},
   "source": [
    "The features *industry* and *major* average salaries don't vary nearly as much as *jobType* and *degree* average salary. We might not be able to learn as much information from them, and I'll keep it in mind when seeing if I want to do feature engineering."
   ]
  },
  {
   "cell_type": "code",
   "execution_count": 14,
   "metadata": {},
   "outputs": [
    {
     "name": "stdout",
     "output_type": "stream",
     "text": [
      "['salary', 'companyId', 'yearsExperience', 'milesFromMetropolis']\n"
     ]
    }
   ],
   "source": [
    "numeric_cols = [x for x in train_merged.columns if x not in categorical_cols]\n",
    "print(numeric_cols)"
   ]
  },
  {
   "cell_type": "code",
   "execution_count": 15,
   "metadata": {},
   "outputs": [
    {
     "data": {
      "text/plain": [
       "Text(0.5, 1.0, 'Numerical Values Correlation Heatmap')"
      ]
     },
     "execution_count": 15,
     "metadata": {},
     "output_type": "execute_result"
    },
    {
     "data": {
      "image/png": "[encoded data removed]",
      "text/plain": [
       "<Figure size 432x288 with 2 Axes>"
      ]
     },
     "metadata": {
      "needs_background": "light"
     },
     "output_type": "display_data"
    }
   ],
   "source": [
    "import seaborn as sns\n",
    "ax = sns.heatmap(train_merged[numeric_cols].corr(), annot=True, cmap='Blues')\n",
    "ax.set_title('Numerical Values Correlation Heatmap')"
   ]
  },
  {
   "cell_type": "markdown",
   "metadata": {},
   "source": [
    "There is a somewhat significant positive correlation between *yearsExperience* and *salary*, and a just as strong negative correlation between *milesFromMetropolis* and *salary*. As the years of experience necessary for the job increases, the salary for the position increases. As the job moves farther away from a city, the salary for the position decreases. Both of these results are rather intuitive."
   ]
  },
  {
   "cell_type": "markdown",
   "metadata": {},
   "source": [
    "### Establishing a Baseline Outcome"
   ]
  },
  {
   "cell_type": "markdown",
   "metadata": {},
   "source": [
    "I'm going to make a rather naive model using the average income of the job type as the only predictor. With the quick glance at the data I've done above, it seems that job type is the best individual predictor. I would like to show that my final model is better than just the naive approach.\n",
    "\n",
    "I'll partition off a chunk of my data to act as the test data since none was originally given. This is so that I can train both the naive and final model on the same data."
   ]
  },
  {
   "cell_type": "code",
   "execution_count": 16,
   "metadata": {},
   "outputs": [],
   "source": [
    "from sklearn.model_selection import train_test_split\n",
    "train_data_merged, test_data_merged = train_test_split(train_merged, test_size=.3, random_state=44)"
   ]
  },
  {
   "cell_type": "markdown",
   "metadata": {},
   "source": [
    "I want to save these datasets externally so that I will be using the same training and test data between various notebooks"
   ]
  },
  {
   "cell_type": "code",
   "execution_count": 17,
   "metadata": {},
   "outputs": [],
   "source": [
    "%%bash\n",
    "rm -r ./model_validation_data\n",
    "\n",
    "mkdir ./model_validation_data"
   ]
  },
  {
   "cell_type": "code",
   "execution_count": 18,
   "metadata": {},
   "outputs": [],
   "source": [
    "train_data_merged.to_csv('./model_validation_data/train.csv')\n",
    "test_data_merged.to_csv('./model_validation_data/test.csv')"
   ]
  },
  {
   "cell_type": "code",
   "execution_count": 17,
   "metadata": {},
   "outputs": [
    {
     "name": "stdout",
     "output_type": "stream",
     "text": [
      "967.0928376323602\n"
     ]
    }
   ],
   "source": [
    "# Creating a naive model on the training data I have\n",
    "\n",
    "nm = NaiveModel(agg_col='jobType', target_col='salary')\n",
    "\n",
    "# Fitting the model on the train data\n",
    "nm.fit(train_data_merged)\n",
    "\n",
    "# Predicting on test data\n",
    "y_pred = nm.predict(test_data_merged)\n",
    "y_actual = test_data_merged['salary']\n",
    "\n",
    "print(mean_squared_error(y_pred, y_actual))"
   ]
  },
  {
   "cell_type": "markdown",
   "metadata": {},
   "source": [
    "Great! Now we have a baseline to actually see how well our model actually is at predicting. I do want to quickly check how much better this naive model is than using the mean of the entire dataset instead of taking the mean split by a grouping."
   ]
  },
  {
   "cell_type": "code",
   "execution_count": 18,
   "metadata": {},
   "outputs": [
    {
     "name": "stdout",
     "output_type": "stream",
     "text": [
      "1506.2839629080158\n"
     ]
    }
   ],
   "source": [
    "print(mean_squared_error(train_data_merged['salary'].mean(), y_actual))"
   ]
  },
  {
   "cell_type": "markdown",
   "metadata": {},
   "source": [
    "Ok, the naive model was much better than just trying the mean of the test data."
   ]
  },
  {
   "cell_type": "markdown",
   "metadata": {},
   "source": [
    "### Hypothesizing Solutions\n"
   ]
  },
  {
   "cell_type": "markdown",
   "metadata": {},
   "source": [
    "Given the comparison of the Naive Model to the prediction just using the training data mean as well as the variations we saw in the grouped means we know that the categorical values will definitely be useful in creating our model. The heatmap also showed that there was a correlation between the numerical values and the salary. More importantly, the heatmap also illustrated that *yearsExperience* and *milesFromMetropolis* had no correlation whatsoever, so we'll be able to learn information from both features independently. The only feature that looks close to useless is *major*, but the slight variation and increased dip in *NONE* as a value might help us get moree information."
   ]
  }
 ],
 "metadata": {
  "kernelspec": {
   "display_name": "Python 3",
   "language": "python",
   "name": "python3"
  },
  "language_info": {
   "codemirror_mode": {
    "name": "ipython",
    "version": 3
   },
   "file_extension": ".py",
   "mimetype": "text/x-python",
   "name": "python",
   "nbconvert_exporter": "python",
   "pygments_lexer": "ipython3",
   "version": "3.6.4"
  }
 },
 "nbformat": 4,
 "nbformat_minor": 2
}
