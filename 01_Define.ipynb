{
 "cells": [
  {
   "cell_type": "markdown",
   "metadata": {},
   "source": [
    "# Salary Predictions Based on Job Descriptions"
   ]
  },
  {
   "cell_type": "markdown",
   "metadata": {},
   "source": [
    "### Overall Problem and Motivation"
   ]
  },
  {
   "cell_type": "markdown",
   "metadata": {},
   "source": [
    "The goal is to produce a model which utilizes job postings to make a prediction on the salaries which should be given for that specific posting. This is valuable information for a company to accurately produce because it can help companies: \n",
    "* budget for new talent efficiently\n",
    "* utilize employees time with more important projects\n"
   ]
  },
  {
   "cell_type": "markdown",
   "metadata": {},
   "source": [
    "### The Data"
   ]
  },
  {
   "cell_type": "markdown",
   "metadata": {},
   "source": [
    "The data will be read in from three CSV files:\n",
    "1. __train_features.csv__: holds the feature data for each posting that will be used for training the model\n",
    "2. __train_salaries.csv__: holds the target values for each posting that will be used for training the model\n",
    "3. __test_features.csv__: which holds the feature data for the postings which will be used for my model's final predictions\n",
    "\n",
    "The features being used to predict the salaries are job type, degree, major, industry, years of experience, and miles from metropolis. Each row is identified by a unique key named *jobId*. The target salary is given in units of thousands of dollars and are also identified by the unique key of *jobId*.\n"
   ]
  },
  {
   "cell_type": "markdown",
   "metadata": {},
   "source": [
    "### Evaluation Metric"
   ]
  },
  {
   "cell_type": "markdown",
   "metadata": {},
   "source": [
    "I will be evaluating model accuracy using mean squared error (MSE) between the predicted values and the actual target values. Since the testing target data is not given, I will be withholding a random chunk of the training data at the very beginning of the project to evaluate my model on. \n",
    "\n",
    "MSE is appropriate for regression models which penalizes larger errors, both over and under estimations, more severely than just using absolute error."
   ]
  },
  {
   "cell_type": "markdown",
   "metadata": {},
   "source": [
    "### Output"
   ]
  },
  {
   "cell_type": "markdown",
   "metadata": {},
   "source": [
    "The final output will be a CSV file named *test_salaries.csv*. The format of this CSV will mirror the format of *train_salaries.csv* with the first column representing the *jobId* and the second column being the corresponding predicted salary in thousands of dollars."
   ]
  }
 ],
 "metadata": {
  "kernelspec": {
   "display_name": "Python 3",
   "language": "python",
   "name": "python3"
  },
  "language_info": {
   "codemirror_mode": {
    "name": "ipython",
    "version": 3
   },
   "file_extension": ".py",
   "mimetype": "text/x-python",
   "name": "python",
   "nbconvert_exporter": "python",
   "pygments_lexer": "ipython3",
   "version": "3.6.4"
  }
 },
 "nbformat": 4,
 "nbformat_minor": 2
}
